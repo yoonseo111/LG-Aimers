{
  "cells": [
    {
      "cell_type": "markdown",
      "id": "017e9265",
      "metadata": {
        "id": "017e9265"
      },
      "source": [
        "# 영업 성공 여부 분류 경진대회"
      ]
    },
    {
      "cell_type": "markdown",
      "id": "acdab431",
      "metadata": {
        "id": "acdab431"
      },
      "source": [
        "## 1. 데이터 확인"
      ]
    },
    {
      "cell_type": "markdown",
      "id": "2b8341e8",
      "metadata": {
        "id": "2b8341e8"
      },
      "source": [
        "### 필수 라이브러리"
      ]
    },
    {
      "cell_type": "code",
      "source": [
        "from google.colab import drive\n",
        "drive.mount('/content/drive')"
      ],
      "metadata": {
        "colab": {
          "base_uri": "https://localhost:8080/"
        },
        "id": "n1SrbvSkWEDH",
        "outputId": "97e097c5-202c-4cdd-ba01-069b8743a993"
      },
      "id": "n1SrbvSkWEDH",
      "execution_count": null,
      "outputs": [
        {
          "output_type": "stream",
          "name": "stdout",
          "text": [
            "Mounted at /content/drive\n"
          ]
        }
      ]
    },
    {
      "cell_type": "code",
      "execution_count": null,
      "id": "a315cc58",
      "metadata": {
        "id": "a315cc58"
      },
      "outputs": [],
      "source": [
        "import pandas as pd\n",
        "import numpy as np\n",
        "from sklearn.metrics import (\n",
        "    accuracy_score,\n",
        "    confusion_matrix,\n",
        "    f1_score,\n",
        "    precision_score,\n",
        "    recall_score,\n",
        ")\n",
        "from sklearn.model_selection import train_test_split\n",
        "from sklearn.tree import DecisionTreeClassifier"
      ]
    },
    {
      "cell_type": "markdown",
      "id": "412f98cc",
      "metadata": {
        "id": "412f98cc"
      },
      "source": [
        "### 데이터 셋 읽어오기"
      ]
    },
    {
      "cell_type": "code",
      "execution_count": null,
      "id": "7ada941e",
      "metadata": {
        "id": "7ada941e"
      },
      "outputs": [],
      "source": [
        "df_train = pd.read_csv(\"/content/drive/MyDrive/LG_Aimers/train.csv\") # 학습용 데이터\n",
        "df_test = pd.read_csv(\"/content/drive/MyDrive/LG_Aimers/submission.csv\") # 테스트 데이터(제출파일의 데이터)"
      ]
    },
    {
      "cell_type": "code",
      "execution_count": null,
      "id": "be9af12a",
      "metadata": {
        "id": "be9af12a",
        "outputId": "dfdc464f-6c61-42ae-bd8b-3df84d19ad4a"
      },
      "outputs": [
        {
          "data": {
            "text/html": [
              "<div>\n",
              "<style scoped>\n",
              "    .dataframe tbody tr th:only-of-type {\n",
              "        vertical-align: middle;\n",
              "    }\n",
              "\n",
              "    .dataframe tbody tr th {\n",
              "        vertical-align: top;\n",
              "    }\n",
              "\n",
              "    .dataframe thead th {\n",
              "        text-align: right;\n",
              "    }\n",
              "</style>\n",
              "<table border=\"1\" class=\"dataframe\">\n",
              "  <thead>\n",
              "    <tr style=\"text-align: right;\">\n",
              "      <th></th>\n",
              "      <th>bant_submit</th>\n",
              "      <th>customer_country</th>\n",
              "      <th>business_unit</th>\n",
              "      <th>com_reg_ver_win_rate</th>\n",
              "      <th>customer_idx</th>\n",
              "      <th>customer_type</th>\n",
              "      <th>enterprise</th>\n",
              "      <th>historical_existing_cnt</th>\n",
              "      <th>id_strategic_ver</th>\n",
              "      <th>it_strategic_ver</th>\n",
              "      <th>...</th>\n",
              "      <th>response_corporate</th>\n",
              "      <th>expected_timeline</th>\n",
              "      <th>ver_cus</th>\n",
              "      <th>ver_pro</th>\n",
              "      <th>ver_win_rate_x</th>\n",
              "      <th>ver_win_ratio_per_bu</th>\n",
              "      <th>business_area</th>\n",
              "      <th>business_subarea</th>\n",
              "      <th>lead_owner</th>\n",
              "      <th>is_converted</th>\n",
              "    </tr>\n",
              "  </thead>\n",
              "  <tbody>\n",
              "    <tr>\n",
              "      <th>0</th>\n",
              "      <td>1.0</td>\n",
              "      <td>/Quezon City/Philippines</td>\n",
              "      <td>AS</td>\n",
              "      <td>0.066667</td>\n",
              "      <td>32160</td>\n",
              "      <td>End-Customer</td>\n",
              "      <td>Enterprise</td>\n",
              "      <td>NaN</td>\n",
              "      <td>NaN</td>\n",
              "      <td>NaN</td>\n",
              "      <td>...</td>\n",
              "      <td>LGEPH</td>\n",
              "      <td>less than 3 months</td>\n",
              "      <td>1</td>\n",
              "      <td>0</td>\n",
              "      <td>0.003079</td>\n",
              "      <td>0.026846</td>\n",
              "      <td>corporate / office</td>\n",
              "      <td>Engineering</td>\n",
              "      <td>0</td>\n",
              "      <td>True</td>\n",
              "    </tr>\n",
              "    <tr>\n",
              "      <th>1</th>\n",
              "      <td>1.0</td>\n",
              "      <td>/PH-00/Philippines</td>\n",
              "      <td>AS</td>\n",
              "      <td>0.066667</td>\n",
              "      <td>23122</td>\n",
              "      <td>End-Customer</td>\n",
              "      <td>Enterprise</td>\n",
              "      <td>12.0</td>\n",
              "      <td>NaN</td>\n",
              "      <td>NaN</td>\n",
              "      <td>...</td>\n",
              "      <td>LGEPH</td>\n",
              "      <td>less than 3 months</td>\n",
              "      <td>1</td>\n",
              "      <td>0</td>\n",
              "      <td>0.003079</td>\n",
              "      <td>0.026846</td>\n",
              "      <td>corporate / office</td>\n",
              "      <td>Advertising</td>\n",
              "      <td>1</td>\n",
              "      <td>True</td>\n",
              "    </tr>\n",
              "    <tr>\n",
              "      <th>2</th>\n",
              "      <td>1.0</td>\n",
              "      <td>/Kolkata /India</td>\n",
              "      <td>AS</td>\n",
              "      <td>0.088889</td>\n",
              "      <td>1755</td>\n",
              "      <td>End-Customer</td>\n",
              "      <td>Enterprise</td>\n",
              "      <td>144.0</td>\n",
              "      <td>NaN</td>\n",
              "      <td>NaN</td>\n",
              "      <td>...</td>\n",
              "      <td>LGEIL</td>\n",
              "      <td>less than 3 months</td>\n",
              "      <td>1</td>\n",
              "      <td>0</td>\n",
              "      <td>0.003079</td>\n",
              "      <td>0.026846</td>\n",
              "      <td>corporate / office</td>\n",
              "      <td>Construction</td>\n",
              "      <td>2</td>\n",
              "      <td>True</td>\n",
              "    </tr>\n",
              "    <tr>\n",
              "      <th>3</th>\n",
              "      <td>1.0</td>\n",
              "      <td>/Bhubaneswar/India</td>\n",
              "      <td>AS</td>\n",
              "      <td>0.088889</td>\n",
              "      <td>4919</td>\n",
              "      <td>End-Customer</td>\n",
              "      <td>Enterprise</td>\n",
              "      <td>NaN</td>\n",
              "      <td>NaN</td>\n",
              "      <td>NaN</td>\n",
              "      <td>...</td>\n",
              "      <td>LGEIL</td>\n",
              "      <td>less than 3 months</td>\n",
              "      <td>1</td>\n",
              "      <td>0</td>\n",
              "      <td>0.003079</td>\n",
              "      <td>0.026846</td>\n",
              "      <td>corporate / office</td>\n",
              "      <td>IT/Software</td>\n",
              "      <td>3</td>\n",
              "      <td>True</td>\n",
              "    </tr>\n",
              "    <tr>\n",
              "      <th>4</th>\n",
              "      <td>1.0</td>\n",
              "      <td>/Hyderabad/India</td>\n",
              "      <td>AS</td>\n",
              "      <td>0.088889</td>\n",
              "      <td>17126</td>\n",
              "      <td>Specifier/ Influencer</td>\n",
              "      <td>Enterprise</td>\n",
              "      <td>NaN</td>\n",
              "      <td>NaN</td>\n",
              "      <td>NaN</td>\n",
              "      <td>...</td>\n",
              "      <td>LGEIL</td>\n",
              "      <td>less than 3 months</td>\n",
              "      <td>0</td>\n",
              "      <td>0</td>\n",
              "      <td>0.003079</td>\n",
              "      <td>0.026846</td>\n",
              "      <td>corporate / office</td>\n",
              "      <td>NaN</td>\n",
              "      <td>4</td>\n",
              "      <td>True</td>\n",
              "    </tr>\n",
              "  </tbody>\n",
              "</table>\n",
              "<p>5 rows × 29 columns</p>\n",
              "</div>"
            ],
            "text/plain": [
              "   bant_submit          customer_country business_unit  com_reg_ver_win_rate  \\\n",
              "0          1.0  /Quezon City/Philippines            AS              0.066667   \n",
              "1          1.0        /PH-00/Philippines            AS              0.066667   \n",
              "2          1.0           /Kolkata /India            AS              0.088889   \n",
              "3          1.0        /Bhubaneswar/India            AS              0.088889   \n",
              "4          1.0          /Hyderabad/India            AS              0.088889   \n",
              "\n",
              "   customer_idx          customer_type  enterprise  historical_existing_cnt  \\\n",
              "0         32160           End-Customer  Enterprise                      NaN   \n",
              "1         23122           End-Customer  Enterprise                     12.0   \n",
              "2          1755           End-Customer  Enterprise                    144.0   \n",
              "3          4919           End-Customer  Enterprise                      NaN   \n",
              "4         17126  Specifier/ Influencer  Enterprise                      NaN   \n",
              "\n",
              "   id_strategic_ver  it_strategic_ver  ...  response_corporate  \\\n",
              "0               NaN               NaN  ...               LGEPH   \n",
              "1               NaN               NaN  ...               LGEPH   \n",
              "2               NaN               NaN  ...               LGEIL   \n",
              "3               NaN               NaN  ...               LGEIL   \n",
              "4               NaN               NaN  ...               LGEIL   \n",
              "\n",
              "    expected_timeline  ver_cus ver_pro ver_win_rate_x ver_win_ratio_per_bu  \\\n",
              "0  less than 3 months        1       0       0.003079             0.026846   \n",
              "1  less than 3 months        1       0       0.003079             0.026846   \n",
              "2  less than 3 months        1       0       0.003079             0.026846   \n",
              "3  less than 3 months        1       0       0.003079             0.026846   \n",
              "4  less than 3 months        0       0       0.003079             0.026846   \n",
              "\n",
              "        business_area business_subarea lead_owner is_converted  \n",
              "0  corporate / office      Engineering          0         True  \n",
              "1  corporate / office      Advertising          1         True  \n",
              "2  corporate / office     Construction          2         True  \n",
              "3  corporate / office      IT/Software          3         True  \n",
              "4  corporate / office              NaN          4         True  \n",
              "\n",
              "[5 rows x 29 columns]"
            ]
          },
          "execution_count": 3,
          "metadata": {},
          "output_type": "execute_result"
        }
      ],
      "source": [
        "df_train.head() # 학습용 데이터 살펴보기"
      ]
    },
    {
      "cell_type": "code",
      "execution_count": null,
      "id": "1523abc4",
      "metadata": {
        "id": "1523abc4",
        "outputId": "3a8ff319-1803-4f60-8318-6cd1eeb49e96"
      },
      "outputs": [
        {
          "name": "stdout",
          "output_type": "stream",
          "text": [
            "bant_submit                    0\n",
            "customer_country             982\n",
            "business_unit                  0\n",
            "com_reg_ver_win_rate       44731\n",
            "customer_idx                   0\n",
            "customer_type              43961\n",
            "enterprise                     0\n",
            "historical_existing_cnt    45543\n",
            "id_strategic_ver           55855\n",
            "it_strategic_ver           58178\n",
            "idit_strategic_ver         54734\n",
            "customer_job               18733\n",
            "lead_desc_length               0\n",
            "inquiry_type                 941\n",
            "product_category           19374\n",
            "product_subcategory        50064\n",
            "product_modelname          50070\n",
            "customer_country.1           982\n",
            "customer_position              0\n",
            "response_corporate             0\n",
            "expected_timeline          30863\n",
            "ver_cus                        0\n",
            "ver_pro                        0\n",
            "ver_win_rate_x             40882\n",
            "ver_win_ratio_per_bu       43995\n",
            "business_area              40882\n",
            "business_subarea           53773\n",
            "lead_owner                     0\n",
            "is_converted                   0\n",
            "dtype: int64\n"
          ]
        }
      ],
      "source": [
        "# 결측치가 있는 칼럼 확인\n",
        "print(df_train.isnull().sum())"
      ]
    },
    {
      "cell_type": "code",
      "execution_count": null,
      "id": "895fc154",
      "metadata": {
        "id": "895fc154",
        "outputId": "5f1955d0-a2a0-47e1-f8df-923886edd29d",
        "colab": {
          "base_uri": "https://localhost:8080/"
        }
      },
      "outputs": [
        {
          "output_type": "stream",
          "name": "stdout",
          "text": [
            "Requirement already satisfied: seaborn in /usr/local/lib/python3.10/dist-packages (0.13.1)\n",
            "Requirement already satisfied: numpy!=1.24.0,>=1.20 in /usr/local/lib/python3.10/dist-packages (from seaborn) (1.23.5)\n",
            "Requirement already satisfied: pandas>=1.2 in /usr/local/lib/python3.10/dist-packages (from seaborn) (1.5.3)\n",
            "Requirement already satisfied: matplotlib!=3.6.1,>=3.4 in /usr/local/lib/python3.10/dist-packages (from seaborn) (3.7.1)\n",
            "Requirement already satisfied: contourpy>=1.0.1 in /usr/local/lib/python3.10/dist-packages (from matplotlib!=3.6.1,>=3.4->seaborn) (1.2.0)\n",
            "Requirement already satisfied: cycler>=0.10 in /usr/local/lib/python3.10/dist-packages (from matplotlib!=3.6.1,>=3.4->seaborn) (0.12.1)\n",
            "Requirement already satisfied: fonttools>=4.22.0 in /usr/local/lib/python3.10/dist-packages (from matplotlib!=3.6.1,>=3.4->seaborn) (4.48.1)\n",
            "Requirement already satisfied: kiwisolver>=1.0.1 in /usr/local/lib/python3.10/dist-packages (from matplotlib!=3.6.1,>=3.4->seaborn) (1.4.5)\n",
            "Requirement already satisfied: packaging>=20.0 in /usr/local/lib/python3.10/dist-packages (from matplotlib!=3.6.1,>=3.4->seaborn) (23.2)\n",
            "Requirement already satisfied: pillow>=6.2.0 in /usr/local/lib/python3.10/dist-packages (from matplotlib!=3.6.1,>=3.4->seaborn) (9.4.0)\n",
            "Requirement already satisfied: pyparsing>=2.3.1 in /usr/local/lib/python3.10/dist-packages (from matplotlib!=3.6.1,>=3.4->seaborn) (3.1.1)\n",
            "Requirement already satisfied: python-dateutil>=2.7 in /usr/local/lib/python3.10/dist-packages (from matplotlib!=3.6.1,>=3.4->seaborn) (2.8.2)\n",
            "Requirement already satisfied: pytz>=2020.1 in /usr/local/lib/python3.10/dist-packages (from pandas>=1.2->seaborn) (2023.4)\n",
            "Requirement already satisfied: six>=1.5 in /usr/local/lib/python3.10/dist-packages (from python-dateutil>=2.7->matplotlib!=3.6.1,>=3.4->seaborn) (1.16.0)\n"
          ]
        }
      ],
      "source": [
        "pip install seaborn"
      ]
    },
    {
      "cell_type": "code",
      "execution_count": null,
      "id": "1e5bc3fe",
      "metadata": {
        "id": "1e5bc3fe",
        "outputId": "828d7c34-ad0d-4bc2-9c74-41142413cf27"
      },
      "outputs": [
        {
          "data": {
            "image/png": "[encoded data removed]",
            "text/plain": [
              "<Figure size 1200x1000 with 2 Axes>"
            ]
          },
          "metadata": {},
          "output_type": "display_data"
        }
      ],
      "source": [
        "import pandas as pd\n",
        "import seaborn as sns\n",
        "import matplotlib.pyplot as plt\n",
        "\n",
        "# 데이터 불러오기\n",
        "data = pd.read_csv(\"train.csv\")\n",
        "\n",
        "# 수치형 데이터만 선택\n",
        "numeric_data = data.select_dtypes(include=[int, float])\n",
        "\n",
        "# 상관관계 계산\n",
        "correlation_matrix_numeric = numeric_data.corr()\n",
        "\n",
        "# 히트맵 생성\n",
        "plt.figure(figsize=(12, 10))\n",
        "sns.heatmap(correlation_matrix_numeric, annot=True, fmt=\".2f\", cmap='coolwarm', cbar=True)\n",
        "plt.title(\"Variable Correlation Heatmap for Numeric Data\")\n",
        "plt.show()\n"
      ]
    },
    {
      "cell_type": "markdown",
      "id": "017bcb50",
      "metadata": {
        "id": "017bcb50"
      },
      "source": [
        "### 결측치 있는 변수 분포 확인하기"
      ]
    },
    {
      "cell_type": "code",
      "execution_count": null,
      "id": "158afb15",
      "metadata": {
        "scrolled": true,
        "id": "158afb15",
        "outputId": "46054094-f7f5-4f4a-c592-32905468be04"
      },
      "outputs": [
        {
          "name": "stdout",
          "output_type": "stream",
          "text": [
            "customer_country\n",
            "//India                                   3037\n",
            "/São Paulo/Brazil                         1344\n",
            "//United States                            962\n",
            "//United Kingdom                           805\n",
            "//Saudi Arabia                             718\n",
            "                                          ... \n",
            "/Hydrated/India                              1\n",
            "/Tirurangadi, Malappuram, Kerala/India       1\n",
            "/Canoinhas / SC/Brazil                       1\n",
            "/Tupã/SP/Brazil                              1\n",
            "/paris/France                                1\n",
            "Name: count, Length: 15399, dtype: int64\n"
          ]
        }
      ],
      "source": [
        "# customer_country 열의 결측치를 제외한 나머지 값들의 분포 확인\n",
        "nomissing_country = df_train.dropna(subset=['customer_country'])\n",
        "\n",
        "# 분포 확인\n",
        "value_counts = nomissing_country['customer_country'].value_counts()\n",
        "print(value_counts)"
      ]
    },
    {
      "cell_type": "code",
      "execution_count": null,
      "id": "30639557",
      "metadata": {
        "id": "30639557"
      },
      "outputs": [],
      "source": [
        "# df_train 내에서 'customer_country'의 최빈값 계산\n",
        "mode_value = df_train['customer_country'].mode()[0]\n",
        "\n",
        "# df_train 내의 'customer_country' 열의 결측치를 최빈값으로 대체\n",
        "df_train['customer_country'].fillna(mode_value, inplace=True)"
      ]
    },
    {
      "cell_type": "code",
      "execution_count": null,
      "id": "b2d3bc86",
      "metadata": {
        "id": "b2d3bc86",
        "outputId": "ab89683e-0a2a-4467-d90f-a56fb343555b"
      },
      "outputs": [
        {
          "name": "stdout",
          "output_type": "stream",
          "text": [
            "com_reg_ver_win_rate\n",
            "0.074949    1130\n",
            "0.003937     803\n",
            "0.073248     791\n",
            "0.642857     782\n",
            "0.003788     713\n",
            "            ... \n",
            "0.363636      13\n",
            "0.444444      12\n",
            "0.400000      12\n",
            "1.000000      10\n",
            "0.200000       5\n",
            "Name: count, Length: 80, dtype: int64\n"
          ]
        },
        {
          "data": {
            "image/png": "[encoded data removed]",
            "text/plain": [
              "<Figure size 640x480 with 1 Axes>"
            ]
          },
          "metadata": {},
          "output_type": "display_data"
        }
      ],
      "source": [
        "# com_reg_ver_win_rate 열의 결측치를 제외한 나머지 값들의 분포 확인\n",
        "nomissing_com = df_train.dropna(subset=['com_reg_ver_win_rate'])\n",
        "\n",
        "# 분포 확인\n",
        "value_counts = nomissing_com['com_reg_ver_win_rate'].value_counts()\n",
        "print(value_counts)\n",
        "\n",
        "import pandas as pd\n",
        "import matplotlib.pyplot as plt\n",
        "\n",
        "# 학습용 데이터 불러오기\n",
        "df_train = pd.read_csv(\"train.csv\")\n",
        "\n",
        "# com_reg_ver_win_rate 열의 결측치를 제외한 나머지 값들의 분포 확인\n",
        "nomissing_com = df_train.dropna(subset=['com_reg_ver_win_rate'])\n",
        "\n",
        "# 분포 확인을 위한 히스토그램 그래프 생성\n",
        "plt.hist(nomissing_com['com_reg_ver_win_rate'], bins=20, edgecolor='k')\n",
        "plt.xlabel('com_reg_ver_win_rate')\n",
        "plt.ylabel('Count')\n",
        "plt.title('com_reg_ver_win_rate Distribution')\n",
        "plt.show()"
      ]
    },
    {
      "cell_type": "code",
      "execution_count": null,
      "id": "1196ea32",
      "metadata": {
        "id": "1196ea32"
      },
      "outputs": [],
      "source": [
        "# 중앙값 계산\n",
        "median_value = nomissing_com['com_reg_ver_win_rate'].median()\n",
        "\n",
        "# 결측치를 중앙값으로 대체\n",
        "df_train['com_reg_ver_win_rate'].fillna(median_value, inplace=True)"
      ]
    },
    {
      "cell_type": "code",
      "execution_count": null,
      "id": "c0fca063",
      "metadata": {
        "id": "c0fca063",
        "outputId": "2c335555-a901-4c8f-8ee9-f7c5da8ba8c6"
      },
      "outputs": [
        {
          "name": "stdout",
          "output_type": "stream",
          "text": [
            "customer_type\n",
            "End-Customer                    6647\n",
            "End Customer                    3996\n",
            "Specifier/ Influencer           2525\n",
            "Channel Partner                 1368\n",
            "Service Partner                  349\n",
            "Solution Eco-Partner             146\n",
            "Installer/Contractor              52\n",
            "Specifier / Influencer            43\n",
            "Corporate                         31\n",
            "HVAC Engineer                     23\n",
            "Engineer                          20\n",
            "Developer                         17\n",
            "Technician                        16\n",
            "Consultant                        15\n",
            "Other                             10\n",
            "Home Owner                        10\n",
            "End-user                           8\n",
            "Manager / Director                 8\n",
            "Software/Solution Provider         7\n",
            "Etc.                               6\n",
            "Architect/Consultant               5\n",
            "Homeowner                          5\n",
            "Reseller                           5\n",
            "Installer                          5\n",
            "Interior Designer                  5\n",
            "Distributor                        4\n",
            "Others                             4\n",
            "Dealer/Distributor                 2\n",
            "System Integrator                  2\n",
            "Software / Solution Provider       1\n",
            "Technical Assistant                1\n",
            "Commercial end-user                1\n",
            "Administrator                      1\n",
            "Name: count, dtype: int64\n"
          ]
        }
      ],
      "source": [
        "# customer_type 열의 결측치를 제외한 나머지 값들의 분포 확인\n",
        "nomissing_type = df_train.dropna(subset=['customer_type'])\n",
        "\n",
        "# 분포 확인\n",
        "value_counts = nomissing_type['customer_type'].value_counts()\n",
        "print(value_counts)"
      ]
    },
    {
      "cell_type": "code",
      "execution_count": null,
      "id": "9cadb204",
      "metadata": {
        "id": "9cadb204"
      },
      "outputs": [],
      "source": [
        "# 최빈값 계산\n",
        "mode_value = nomissing_country['customer_type'].mode()[0]\n",
        "\n",
        "# 결측치를 최빈값으로 대체\n",
        "df_train['customer_type'].fillna(mode_value, inplace=True)"
      ]
    },
    {
      "cell_type": "code",
      "execution_count": null,
      "id": "43180871",
      "metadata": {
        "id": "43180871",
        "outputId": "8647e594-ccb9-47ff-d5bb-004783d21d2a"
      },
      "outputs": [
        {
          "name": "stdout",
          "output_type": "stream",
          "text": [
            "historical_existing_cnt\n",
            "4.0       2957\n",
            "0.0       1973\n",
            "1.0       1967\n",
            "19.0      1441\n",
            "16.0      1132\n",
            "          ... \n",
            "404.0        1\n",
            "145.0        1\n",
            "1394.0       1\n",
            "199.0        1\n",
            "108.0        1\n",
            "Name: count, Length: 136, dtype: int64\n"
          ]
        },
        {
          "data": {
            "image/png": "[encoded data removed]",
            "text/plain": [
              "<Figure size 640x480 with 1 Axes>"
            ]
          },
          "metadata": {},
          "output_type": "display_data"
        }
      ],
      "source": [
        "# historical_existing_cnt 열의 결측치를 제외한 나머지 값들의 분포 확인\n",
        "nomissing_historical = df_train.dropna(subset=['historical_existing_cnt'])\n",
        "\n",
        "# 분포 확인\n",
        "value_counts = nomissing_historical['historical_existing_cnt'].value_counts()\n",
        "print(value_counts)\n",
        "\n",
        "# 분포 확인을 위한 히스토그램 그래프 생성\n",
        "plt.hist(nomissing_historical['historical_existing_cnt'], bins=20, edgecolor='k')\n",
        "plt.xlabel('historical_existing_cnt')\n",
        "plt.ylabel('Count')\n",
        "plt.title('historical_existing_cnt_rate Distribution')\n",
        "plt.show()\n",
        "\n",
        "## customer_type에 따라 다르지 않을까?"
      ]
    },
    {
      "cell_type": "code",
      "execution_count": null,
      "id": "a2c174f7",
      "metadata": {
        "id": "a2c174f7"
      },
      "outputs": [],
      "source": [
        "from sklearn.preprocessing import LabelEncoder\n",
        "\n",
        "# 'customer_type' 열의 고유값 확인\n",
        "unique_customer_types = df_train['customer_type'].unique()\n",
        "\n",
        "# Label Encoder 초기화\n",
        "label_encoder = LabelEncoder()\n",
        "\n",
        "# 'customer_type' 열을 수치형으로 변환\n",
        "df_train['customer_type_encoded'] = label_encoder.fit_transform(df_train['customer_type'])"
      ]
    },
    {
      "cell_type": "code",
      "execution_count": null,
      "id": "12a7002f",
      "metadata": {
        "id": "12a7002f",
        "outputId": "2b02c7d8-c831-471f-9573-3e38867c1842"
      },
      "outputs": [
        {
          "name": "stdout",
          "output_type": "stream",
          "text": [
            "                         customer_type_encoded  historical_existing_cnt\n",
            "customer_type_encoded                   1.0000                  -0.0526\n",
            "historical_existing_cnt                -0.0526                   1.0000\n"
          ]
        }
      ],
      "source": [
        "# 변환된 데이터로 상관관계 재계산\n",
        "correlation_updated = data[['customer_type_encoded', 'historical_existing_cnt']].corr()\n",
        "print(correlation_updated)"
      ]
    },
    {
      "cell_type": "code",
      "execution_count": null,
      "id": "78357ee2",
      "metadata": {
        "id": "78357ee2"
      },
      "outputs": [],
      "source": [
        "# 중앙값 계산\n",
        "median_value = nomissing_com['historical_existing_cnt'].median()\n",
        "\n",
        "# 결측치를 중앙값으로 대체\n",
        "df_train['historical_existing_cnt'].fillna(median_value, inplace=True)"
      ]
    },
    {
      "cell_type": "code",
      "execution_count": null,
      "id": "ef2185af",
      "metadata": {
        "id": "ef2185af",
        "outputId": "3f9d4eaf-19ca-4a82-fccb-71d0f7f68b4d"
      },
      "outputs": [
        {
          "name": "stdout",
          "output_type": "stream",
          "text": [
            "id_strategic_ver\n",
            "1.0    3444\n",
            "Name: count, dtype: int64\n"
          ]
        }
      ],
      "source": [
        "# id_strategic_ver 열의 결측치를 제외한 나머지 값들의 분포 확인\n",
        "nomissing_id = df_train.dropna(subset=['id_strategic_ver'])\n",
        "\n",
        "# 분포 확인\n",
        "value_counts = nomissing_id['id_strategic_ver'].value_counts()\n",
        "print(value_counts)"
      ]
    },
    {
      "cell_type": "code",
      "execution_count": null,
      "id": "459a2a70",
      "metadata": {
        "id": "459a2a70",
        "outputId": "a6049e66-3f97-4ba2-a005-ad02a6bee0c8"
      },
      "outputs": [
        {
          "name": "stdout",
          "output_type": "stream",
          "text": [
            "       id_strategic_ver  it_strategic_ver  idit_strategic_ver\n",
            "0                   0.0               0.0                 0.0\n",
            "1                   0.0               0.0                 0.0\n",
            "2                   0.0               0.0                 0.0\n",
            "3                   0.0               0.0                 0.0\n",
            "4                   0.0               0.0                 0.0\n",
            "...                 ...               ...                 ...\n",
            "59294               0.0               0.0                 0.0\n",
            "59295               0.0               0.0                 0.0\n",
            "59296               0.0               0.0                 0.0\n",
            "59297               0.0               0.0                 0.0\n",
            "59298               0.0               0.0                 0.0\n",
            "\n",
            "[59299 rows x 3 columns]\n"
          ]
        }
      ],
      "source": [
        "# 'id_strategic_ver', 'it_strategic_ver', 'idit_strategic_ver' 열의 결측치를 0으로 대체\n",
        "df_train['id_strategic_ver'].fillna(0, inplace=True)\n",
        "df_train['it_strategic_ver'].fillna(0, inplace=True)\n",
        "df_train['idit_strategic_ver'].fillna(0, inplace=True)\n",
        "\n",
        "# 결과 확인\n",
        "print(df_train[['id_strategic_ver', 'it_strategic_ver', 'idit_strategic_ver']])"
      ]
    },
    {
      "cell_type": "code",
      "execution_count": null,
      "id": "38ca0d13",
      "metadata": {
        "id": "38ca0d13",
        "outputId": "cff43f7a-f887-416f-92c1-c73d8f20eb1a"
      },
      "outputs": [
        {
          "name": "stdout",
          "output_type": "stream",
          "text": [
            "customer_job\n",
            "engineering                       6342\n",
            "other                             4852\n",
            "administrative                    3359\n",
            "education                         2287\n",
            "sales                             2218\n",
            "                                  ... \n",
            "appliance specialist                 1\n",
            "av estimator                         1\n",
            "purchasers                           1\n",
            "pricing                              1\n",
            "exhibition / convention center       1\n",
            "Name: count, Length: 560, dtype: int64\n"
          ]
        }
      ],
      "source": [
        "# customer_job 열의 결측치를 제외한 나머지 값들의 분포 확인\n",
        "nomissing_job = df_train.dropna(subset=['customer_job'])\n",
        "\n",
        "# 분포 확인\n",
        "value_counts = nomissing_job['customer_job'].value_counts()\n",
        "print(value_counts)"
      ]
    },
    {
      "cell_type": "code",
      "execution_count": null,
      "id": "bc201271",
      "metadata": {
        "id": "bc201271",
        "outputId": "0e9936de-8faa-4aad-8183-2d5bd5ceb395"
      },
      "outputs": [
        {
          "name": "stdout",
          "output_type": "stream",
          "text": [
            "customer_job\n",
            "inoccupation                      18733\n",
            "engineering                        6342\n",
            "other                              4852\n",
            "administrative                     3359\n",
            "education                          2287\n",
            "                                  ...  \n",
            "appliance specialist                  1\n",
            "av estimator                          1\n",
            "purchasers                            1\n",
            "pricing                               1\n",
            "exhibition / convention center        1\n",
            "Name: count, Length: 561, dtype: int64\n"
          ]
        }
      ],
      "source": [
        "# customer_job 열의 결측치를 \"inoccupation\"으로 대체\n",
        "df_train['customer_job'].fillna(\"inoccupation\", inplace=True)\n",
        "\n",
        "# 결측치를 대체한 후 분포 확인\n",
        "value_counts = df_train['customer_job'].value_counts()\n",
        "print(value_counts)\n",
        "\n",
        "## inoccupation이 제일 많아서 어떻게 처리해야 할 지 다시 고민해봐야할 것"
      ]
    },
    {
      "cell_type": "code",
      "source": [
        "# lead_desc_length 열의 결측치를 제외한 나머지 값들의 분포 확인\n",
        "nomissing_lead = df_train.dropna(subset=['lead_desc_length'])\n",
        "\n",
        "# 분포 확인\n",
        "value_counts = nomissing_lead['lead_desc_length'].value_counts()\n",
        "print(value_counts)"
      ],
      "metadata": {
        "colab": {
          "base_uri": "https://localhost:8080/"
        },
        "id": "v1rJWKaMbtfS",
        "outputId": "faf08c9d-4d01-4773-98c8-e9c87902d9b4"
      },
      "id": "v1rJWKaMbtfS",
      "execution_count": null,
      "outputs": [
        {
          "output_type": "stream",
          "name": "stdout",
          "text": [
            "3      10378\n",
            "14      3180\n",
            "2        934\n",
            "10       891\n",
            "4        884\n",
            "       ...  \n",
            "824        1\n",
            "559        1\n",
            "676        1\n",
            "907        1\n",
            "726        1\n",
            "Name: lead_desc_length, Length: 909, dtype: int64\n"
          ]
        }
      ]
    },
    {
      "cell_type": "code",
      "execution_count": null,
      "id": "b8a21a88",
      "metadata": {
        "colab": {
          "base_uri": "https://localhost:8080/"
        },
        "id": "b8a21a88",
        "outputId": "2fbe5843-aa30-4b1a-d33a-9b3c2568c1e4"
      },
      "outputs": [
        {
          "output_type": "stream",
          "name": "stdout",
          "text": [
            "Quotation or purchase consultation                                                                                     23274\n",
            "Quotation or Purchase Consultation                                                                                     18766\n",
            "Sales Inquiry                                                                                                           9977\n",
            "Product Information                                                                                                     1237\n",
            "Other                                                                                                                    929\n",
            "                                                                                                                       ...  \n",
            "quotation_                                                                                                                 1\n",
            "display product                                                                                                            1\n",
            "first Info and pricing                                                                                                     1\n",
            "estoy buscando para Ecuador este producto LG MAGNIT micro LED, para un cliente de 138 pulgadas, con envió marítimo.        1\n",
            "Evento_SdelEstero                                                                                                          1\n",
            "Name: inquiry_type, Length: 71, dtype: int64\n"
          ]
        }
      ],
      "source": [
        "# inquiry_type 열의 결측치를 제외한 나머지 값들의 분포 확인\n",
        "nomissing_inquiry = df_train.dropna(subset=['inquiry_type'])\n",
        "\n",
        "# 분포 확인\n",
        "value_counts = nomissing_inquiry['inquiry_type'].value_counts()\n",
        "print(value_counts)"
      ]
    },
    {
      "cell_type": "code",
      "source": [
        "# inquiry_type 열의 결측치를 제외한 나머지 값들의 분포 확인\n",
        "nomissing_inquiry = df_train.dropna(subset=['inquiry_type'])\n",
        "\n",
        "# 분포 확인\n",
        "value_counts = nomissing_inquiry['inquiry_type'].value_counts()\n",
        "print(value_counts)\n",
        "print(value_counts.count())"
      ],
      "metadata": {
        "colab": {
          "base_uri": "https://localhost:8080/"
        },
        "id": "oquQ00RhX13F",
        "outputId": "69612bfb-629d-4933-9c8d-f2c926727783"
      },
      "id": "oquQ00RhX13F",
      "execution_count": null,
      "outputs": [
        {
          "output_type": "stream",
          "name": "stdout",
          "text": [
            "Quotation or purchase consultation                                                                                     23274\n",
            "Quotation or Purchase Consultation                                                                                     18766\n",
            "Sales Inquiry                                                                                                           9977\n",
            "Product Information                                                                                                     1237\n",
            "Other                                                                                                                    929\n",
            "                                                                                                                       ...  \n",
            "quotation_                                                                                                                 1\n",
            "display product                                                                                                            1\n",
            "first Info and pricing                                                                                                     1\n",
            "estoy buscando para Ecuador este producto LG MAGNIT micro LED, para un cliente de 138 pulgadas, con envió marítimo.        1\n",
            "Evento_SdelEstero                                                                                                          1\n",
            "Name: inquiry_type, Length: 71, dtype: int64\n",
            "71\n"
          ]
        }
      ]
    },
    {
      "cell_type": "code",
      "source": [
        "# inquiry_type 열의 결측치를 제외한 나머지 값들의 분포 확인\n",
        "nomissing_inquiry = df_train.dropna(subset=['inquiry_type'])\n",
        "\n",
        "# 분포 확인\n",
        "value_counts = nomissing_inquiry['inquiry_type'].value_counts()\n",
        "print(value_counts)"
      ],
      "metadata": {
        "colab": {
          "base_uri": "https://localhost:8080/"
        },
        "id": "RnJaP3SOV1rm",
        "outputId": "0bdaeb65-00f0-4a12-c267-3794f322b2c3"
      },
      "id": "RnJaP3SOV1rm",
      "execution_count": null,
      "outputs": [
        {
          "output_type": "stream",
          "name": "stdout",
          "text": [
            "Quotation or purchase consultation                                                                                     23274\n",
            "Quotation or Purchase Consultation                                                                                     18766\n",
            "Sales Inquiry                                                                                                           9977\n",
            "Product Information                                                                                                     1237\n",
            "Other                                                                                                                    929\n",
            "                                                                                                                       ...  \n",
            "quotation_                                                                                                                 1\n",
            "display product                                                                                                            1\n",
            "first Info and pricing                                                                                                     1\n",
            "estoy buscando para Ecuador este producto LG MAGNIT micro LED, para un cliente de 138 pulgadas, con envió marítimo.        1\n",
            "Evento_SdelEstero                                                                                                          1\n",
            "Name: inquiry_type, Length: 71, dtype: int64\n"
          ]
        }
      ]
    },
    {
      "cell_type": "code",
      "execution_count": null,
      "id": "741a334f",
      "metadata": {
        "id": "741a334f"
      },
      "outputs": [],
      "source": [
        "# 최빈값 계산\n",
        "mode_value = nomissing_country['inquiry_type'].mode()[0]\n",
        "\n",
        "# 결측치를 최빈값으로 대체\n",
        "df_train['inquiry_type'].fillna(mode_value, inplace=True)"
      ]
    },
    {
      "cell_type": "code",
      "execution_count": null,
      "id": "0e1b2f2d",
      "metadata": {
        "id": "0e1b2f2d",
        "outputId": "6589a793-7281-4f2d-e204-d6398110c5e5",
        "colab": {
          "base_uri": "https://localhost:8080/"
        }
      },
      "outputs": [
        {
          "output_type": "stream",
          "name": "stdout",
          "text": [
            "interactive digital board                     6154\n",
            "vrf                                           5640\n",
            "multi-split                                   3674\n",
            "video wall signage                            2029\n",
            "etc.                                          2018\n",
            "                                              ... \n",
            "system ac                                        1\n",
            "sac                                              1\n",
            "gscd046                                          1\n",
            "43uh5f-h.awzm                                    1\n",
            "monior/monitor tv,refrigerator,audio/video       1\n",
            "Name: product_category, Length: 357, dtype: int64\n"
          ]
        }
      ],
      "source": [
        "# product_category 열의 결측치를 제외한 나머지 값들의 분포 확인\n",
        "nomissing_category = df_train.dropna(subset=['product_category'])\n",
        "\n",
        "# 분포 확인\n",
        "value_counts = nomissing_category['product_category'].value_counts()\n",
        "print(value_counts)"
      ]
    },
    {
      "cell_type": "code",
      "execution_count": null,
      "id": "ea9b0745",
      "metadata": {
        "id": "ea9b0745"
      },
      "outputs": [],
      "source": [
        "# 'inquiry_type', 'product_category', 'product_subcategory' 열에 Label Encoding 적용\n",
        "data['inquiry_type_encoded'] = label_encoder.fit_transform(data['inquiry_type'].astype(str))\n",
        "data['product_category_encoded'] = label_encoder.fit_transform(data['product_category'].astype(str))\n",
        "data['product_subcategory_encoded'] = label_encoder.fit_transform(data['product_subcategory'].astype(str))"
      ]
    },
    {
      "cell_type": "code",
      "execution_count": null,
      "id": "20f2fe13",
      "metadata": {
        "id": "20f2fe13",
        "outputId": "e4a242b2-75cb-461e-e029-653a67115f13"
      },
      "outputs": [
        {
          "name": "stdout",
          "output_type": "stream",
          "text": [
            "                             inquiry_type_encoded  product_category_encoded  \\\n",
            "inquiry_type_encoded                     1.000000                  0.079943   \n",
            "product_category_encoded                 0.079943                  1.000000   \n",
            "product_subcategory_encoded              0.105434                  0.030078   \n",
            "\n",
            "                             product_subcategory_encoded  \n",
            "inquiry_type_encoded                            0.105434  \n",
            "product_category_encoded                        0.030078  \n",
            "product_subcategory_encoded                     1.000000  \n"
          ]
        }
      ],
      "source": [
        "# 변환된 데이터로 상관관계 재계산\n",
        "correlation_for_new_vars = data[[\n",
        "    'inquiry_type_encoded',\n",
        "    'product_category_encoded',\n",
        "    'product_subcategory_encoded'\n",
        "]].corr()\n",
        "print(correlation_for_new_vars)"
      ]
    },
    {
      "cell_type": "code",
      "source": [
        "# 'inquiry_type', 'product_category', 'product_subcategory' 열에 Label Encoding 적용\n",
        "df_train['inquiry_type_encoded'] = label_encoder.fit_transform(df_train['inquiry_type'].astype(str))\n",
        "df_train['product_category_encoded'] = label_encoder.fit_transform(df_train['product_category'].astype(str))\n",
        "df_train['product_subcategory_encoded'] = label_encoder.fit_transform(df_train['product_subcategory'].astype(str))\n",
        "df_train['product_modelname_encoded'] = label_encoder.fit_transform(df_train['product_modelname'].astype(str))"
      ],
      "metadata": {
        "id": "KBXj2VX4aSBZ"
      },
      "id": "KBXj2VX4aSBZ",
      "execution_count": null,
      "outputs": []
    },
    {
      "cell_type": "code",
      "source": [
        "# 변환된 데이터로 상관관계 재계산\n",
        "correlation_product = df_train[[\n",
        "    'product_category_encoded',\n",
        "    'product_subcategory_encoded',\n",
        "    'product_modelname_encoded'\n",
        "]].corr()\n",
        "print(correlation_product)"
      ],
      "metadata": {
        "colab": {
          "base_uri": "https://localhost:8080/"
        },
        "id": "LFDqfvOmabSZ",
        "outputId": "9ed2b82a-0575-42ca-c006-637a9deccbba"
      },
      "id": "LFDqfvOmabSZ",
      "execution_count": null,
      "outputs": [
        {
          "output_type": "stream",
          "name": "stdout",
          "text": [
            "                             product_category_encoded  \\\n",
            "product_category_encoded                     1.000000   \n",
            "product_subcategory_encoded                  0.030078   \n",
            "product_modelname_encoded                   -0.033312   \n",
            "\n",
            "                             product_subcategory_encoded  \\\n",
            "product_category_encoded                        0.030078   \n",
            "product_subcategory_encoded                     1.000000   \n",
            "product_modelname_encoded                       0.565376   \n",
            "\n",
            "                             product_modelname_encoded  \n",
            "product_category_encoded                     -0.033312  \n",
            "product_subcategory_encoded                   0.565376  \n",
            "product_modelname_encoded                     1.000000  \n"
          ]
        }
      ]
    },
    {
      "cell_type": "code",
      "execution_count": null,
      "id": "5e8ae2b7",
      "metadata": {
        "id": "5e8ae2b7"
      },
      "outputs": [],
      "source": [
        "s# df_train 내에서 'customer_country'의 최빈값 계산\n",
        "mode_value = df_train['product_category'].mode()[0]\n",
        "\n",
        "# df_train 내의 'customer_country' 열의 결측치를 최빈값으로 대체\n",
        "df_train['product_category'].fillna(mode_value, inplace=True)"
      ]
    },
    {
      "cell_type": "code",
      "execution_count": null,
      "id": "5f14def1",
      "metadata": {
        "id": "5f14def1",
        "outputId": "f1df3910-2b8b-498d-c6ad-0b694b8c96f5",
        "colab": {
          "base_uri": "https://localhost:8080/"
        }
      },
      "outputs": [
        {
          "output_type": "stream",
          "name": "stdout",
          "text": [
            "All Medical Displays         446\n",
            "Interactive Digital Board    417\n",
            "TR3BF Series                 374\n",
            "Transparent OLED Signage     288\n",
            "Diagnostic Monitors          284\n",
            "                            ... \n",
            "49VL5J                         1\n",
            "Versatile                      1\n",
            "UM3F Series                    1\n",
            "All Monitors &PCs              1\n",
            "EVR                            1\n",
            "Name: product_subcategory, Length: 330, dtype: int64\n"
          ]
        }
      ],
      "source": [
        "# product_subcategory 열의 결측치를 제외한 나머지 값들의 분포 확인\n",
        "nomissing_subcategory = df_train.dropna(subset=['product_subcategory'])\n",
        "\n",
        "# 분포 확인\n",
        "value_counts = nomissing_subcategory['product_subcategory'].value_counts()\n",
        "print(value_counts)"
      ]
    },
    {
      "cell_type": "code",
      "execution_count": null,
      "id": "2249ca52",
      "metadata": {
        "id": "2249ca52"
      },
      "outputs": [],
      "source": [
        "# LabelEncoder를 사용하여 'product_category'와 'product_subcategory'를 수치형으로 변환\n",
        "label_encoder_category = LabelEncoder()\n",
        "label_encoder_subcategory = LabelEncoder()\n",
        "\n",
        "data['product_category_encoded'] = label_encoder_category.fit_transform(data['product_category'].astype(str))\n",
        "data['product_subcategory_encoded'] = label_encoder_subcategory.fit_transform(data['product_subcategory'].astype(str))\n",
        "\n",
        "# 'business_subarea'에 결측치가 있는 행과 없는 행을 분리\n",
        "data_with_subcategory = data.dropna(subset=['product_subcategory'])\n",
        "data_without_subcategory = data[data['product_subcategory'].isna()]"
      ]
    },
    {
      "cell_type": "code",
      "execution_count": null,
      "id": "ea71bec9",
      "metadata": {
        "id": "ea71bec9"
      },
      "outputs": [],
      "source": [
        "from sklearn.ensemble import RandomForestClassifier"
      ]
    },
    {
      "cell_type": "code",
      "execution_count": null,
      "id": "3c61e99a",
      "metadata": {
        "id": "3c61e99a"
      },
      "outputs": [],
      "source": [
        "# 훈련 데이터와 테스트 데이터 준비\n",
        "X = data_with_subcategory[['product_category_encoded']]\n",
        "y = data_with_subcategory['product_subcategory_encoded']\n",
        "\n",
        "# 훈련 데이터와 테스트 데이터 분할 (훈련 데이터만 사용하여 모델을 학습)\n",
        "X_train, X_test, y_train, y_test = train_test_split(X, y, test_size=0.2, random_state=42)\n",
        "\n",
        "# RandomForest 분류기 초기화 및 훈련\n",
        "rf_classifier = RandomForestClassifier(random_state=42)\n",
        "rf_classifier.fit(X_train, y_train)\n",
        "\n",
        "# 'business_subarea'가 결측인 데이터에 대해 예측 수행\n",
        "predicted_subcategory_encoded = rf_classifier.predict(data_without_subcategory[['product_category_encoded']])\n",
        "\n",
        "# 예측된 수치형 'business_subarea'를 원래의 문자열 레이블로 변환\n",
        "predicted_subcategory = label_encoder_subcategory.inverse_transform(predicted_subcategory_encoded)"
      ]
    },
    {
      "cell_type": "code",
      "execution_count": null,
      "id": "a14abf67",
      "metadata": {
        "id": "a14abf67"
      },
      "outputs": [],
      "source": [
        "# 3단계: 예측된 'product_subcategory'로 결측치 대체\n",
        "data.loc[data['product_subcategory'].isna(), 'product_subcategory'] = predicted_subcategory"
      ]
    },
    {
      "cell_type": "code",
      "execution_count": null,
      "id": "e249ce7b",
      "metadata": {
        "id": "e249ce7b",
        "outputId": "4bf7a417-af62-459a-a728-e7919f2be081",
        "colab": {
          "base_uri": "https://localhost:8080/"
        }
      },
      "outputs": [
        {
          "output_type": "stream",
          "name": "stdout",
          "text": [
            "UltraFine Ergo(32UN880)    523\n",
            "28MQ780                    479\n",
            "All Medical Displays       350\n",
            "43HT3WJ                    290\n",
            "55CT5WJ                    261\n",
            "                          ... \n",
            "55EJ5E-B                     1\n",
            "43UT662M (MEA)               1\n",
            "43UM3DG                      1\n",
            "32LT340C (EU)                1\n",
            "55US660H (SCA)               1\n",
            "Name: product_modelname, Length: 665, dtype: int64\n"
          ]
        }
      ],
      "source": [
        "# product_modelname 열의 결측치를 제외한 나머지 값들의 분포 확인\n",
        "nomissing_modelname = df_train.dropna(subset=['product_modelname'])\n",
        "\n",
        "# 분포 확인\n",
        "value_counts = nomissing_modelname['product_modelname'].value_counts()\n",
        "print(value_counts)"
      ]
    },
    {
      "cell_type": "code",
      "execution_count": null,
      "id": "bd840978",
      "metadata": {
        "id": "bd840978"
      },
      "outputs": [],
      "source": [
        "# 'product_modelname' 열에 Label Encoding 적용\n",
        "data['product_modelname_encoded'] = label_encoder.fit_transform(data['product_modelname'].astype(str))"
      ]
    },
    {
      "cell_type": "code",
      "execution_count": null,
      "id": "caec36c1",
      "metadata": {
        "id": "caec36c1",
        "outputId": "533b77c6-d88a-422f-ea4c-5c6bd3ea660f"
      },
      "outputs": [
        {
          "name": "stdout",
          "output_type": "stream",
          "text": [
            "                           product_modelname_encoded  product_category_encoded\n",
            "product_modelname_encoded                   1.000000                 -0.033312\n",
            "product_category_encoded                   -0.033312                  1.000000\n"
          ]
        }
      ],
      "source": [
        "# 변환된 데이터로 'product_modelname'과 'product_category' 열 사이의 상관관계 재계산\n",
        "correlation_model_category = data[['product_modelname_encoded', 'product_category_encoded']].corr()\n",
        "print(correlation_model_category)"
      ]
    },
    {
      "cell_type": "code",
      "execution_count": null,
      "id": "031f9bdb",
      "metadata": {
        "id": "031f9bdb"
      },
      "outputs": [],
      "source": [
        "# 최빈값 계산\n",
        "mode_value = nomissing_country['product_modelname'].mode()[0]\n",
        "\n",
        "# 결측치를 최빈값으로 대체\n",
        "df_train['product_modelname'].fillna(mode_value, inplace=True)"
      ]
    },
    {
      "cell_type": "code",
      "execution_count": null,
      "id": "1bf0c80b",
      "metadata": {
        "id": "1bf0c80b",
        "outputId": "10fabd12-aae7-4f0d-a643-0beb835abd7a",
        "colab": {
          "base_uri": "https://localhost:8080/"
        }
      },
      "outputs": [
        {
          "output_type": "stream",
          "name": "stdout",
          "text": [
            "//India                                   3037\n",
            "/São Paulo/Brazil                         1344\n",
            "//United States                            962\n",
            "//United Kingdom                           805\n",
            "//Saudi Arabia                             718\n",
            "                                          ... \n",
            "/Hydrated/India                              1\n",
            "/Tirurangadi, Malappuram, Kerala/India       1\n",
            "/Canoinhas / SC/Brazil                       1\n",
            "/Tupã/SP/Brazil                              1\n",
            "/paris/France                                1\n",
            "Name: customer_country.1, Length: 15399, dtype: int64\n"
          ]
        }
      ],
      "source": [
        "# customer_country.1 열의 결측치를 제외한 나머지 값들의 분포 확인\n",
        "nomissing_country_1 = df_train.dropna(subset=['customer_country.1'])\n",
        "\n",
        "# 분포 확인\n",
        "value_counts = nomissing_country_1['customer_country.1'].value_counts()\n",
        "print(value_counts)"
      ]
    },
    {
      "cell_type": "code",
      "execution_count": null,
      "id": "92556462",
      "metadata": {
        "id": "92556462",
        "colab": {
          "base_uri": "https://localhost:8080/",
          "height": 323
        },
        "outputId": "3b6f634c-a168-460f-d0bb-c3fdff625f46"
      },
      "outputs": [
        {
          "output_type": "error",
          "ename": "NameError",
          "evalue": "name 'data' is not defined",
          "traceback": [
            "\u001b[0;31m---------------------------------------------------------------------------\u001b[0m",
            "\u001b[0;31mNameError\u001b[0m                                 Traceback (most recent call last)",
            "\u001b[0;32m<ipython-input-21-0ac993000a4d>\u001b[0m in \u001b[0;36m<cell line: 2>\u001b[0;34m()\u001b[0m\n\u001b[1;32m      1\u001b[0m \u001b[0;31m# 각 범주형 열에 Label Encoding 적용\u001b[0m\u001b[0;34m\u001b[0m\u001b[0;34m\u001b[0m\u001b[0m\n\u001b[0;32m----> 2\u001b[0;31m \u001b[0mdata\u001b[0m\u001b[0;34m[\u001b[0m\u001b[0;34m'customer_country_encoded'\u001b[0m\u001b[0;34m]\u001b[0m \u001b[0;34m=\u001b[0m \u001b[0mlabel_encoder\u001b[0m\u001b[0;34m.\u001b[0m\u001b[0mfit_transform\u001b[0m\u001b[0;34m(\u001b[0m\u001b[0mdata\u001b[0m\u001b[0;34m[\u001b[0m\u001b[0;34m'customer_country'\u001b[0m\u001b[0;34m]\u001b[0m\u001b[0;34m.\u001b[0m\u001b[0mastype\u001b[0m\u001b[0;34m(\u001b[0m\u001b[0mstr\u001b[0m\u001b[0;34m)\u001b[0m\u001b[0;34m)\u001b[0m\u001b[0;34m\u001b[0m\u001b[0;34m\u001b[0m\u001b[0m\n\u001b[0m\u001b[1;32m      3\u001b[0m \u001b[0mdata\u001b[0m\u001b[0;34m[\u001b[0m\u001b[0;34m'customer_country_1_encoded'\u001b[0m\u001b[0;34m]\u001b[0m \u001b[0;34m=\u001b[0m \u001b[0mlabel_encoder\u001b[0m\u001b[0;34m.\u001b[0m\u001b[0mfit_transform\u001b[0m\u001b[0;34m(\u001b[0m\u001b[0mdata\u001b[0m\u001b[0;34m[\u001b[0m\u001b[0;34m'customer_country.1'\u001b[0m\u001b[0;34m]\u001b[0m\u001b[0;34m.\u001b[0m\u001b[0mastype\u001b[0m\u001b[0;34m(\u001b[0m\u001b[0mstr\u001b[0m\u001b[0;34m)\u001b[0m\u001b[0;34m)\u001b[0m\u001b[0;34m\u001b[0m\u001b[0;34m\u001b[0m\u001b[0m\n\u001b[1;32m      4\u001b[0m \u001b[0mdata\u001b[0m\u001b[0;34m[\u001b[0m\u001b[0;34m'business_area_encoded'\u001b[0m\u001b[0;34m]\u001b[0m \u001b[0;34m=\u001b[0m \u001b[0mlabel_encoder\u001b[0m\u001b[0;34m.\u001b[0m\u001b[0mfit_transform\u001b[0m\u001b[0;34m(\u001b[0m\u001b[0mdata\u001b[0m\u001b[0;34m[\u001b[0m\u001b[0;34m'business_area'\u001b[0m\u001b[0;34m]\u001b[0m\u001b[0;34m.\u001b[0m\u001b[0mastype\u001b[0m\u001b[0;34m(\u001b[0m\u001b[0mstr\u001b[0m\u001b[0;34m)\u001b[0m\u001b[0;34m)\u001b[0m\u001b[0;34m\u001b[0m\u001b[0;34m\u001b[0m\u001b[0m\n\u001b[1;32m      5\u001b[0m \u001b[0mdata\u001b[0m\u001b[0;34m[\u001b[0m\u001b[0;34m'business_subarea_encoded'\u001b[0m\u001b[0;34m]\u001b[0m \u001b[0;34m=\u001b[0m \u001b[0mlabel_encoder\u001b[0m\u001b[0;34m.\u001b[0m\u001b[0mfit_transform\u001b[0m\u001b[0;34m(\u001b[0m\u001b[0mdata\u001b[0m\u001b[0;34m[\u001b[0m\u001b[0;34m'business_subarea'\u001b[0m\u001b[0;34m]\u001b[0m\u001b[0;34m.\u001b[0m\u001b[0mastype\u001b[0m\u001b[0;34m(\u001b[0m\u001b[0mstr\u001b[0m\u001b[0;34m)\u001b[0m\u001b[0;34m)\u001b[0m\u001b[0;34m\u001b[0m\u001b[0;34m\u001b[0m\u001b[0m\n",
            "\u001b[0;31mNameError\u001b[0m: name 'data' is not defined"
          ]
        }
      ],
      "source": [
        "# 각 범주형 열에 Label Encoding 적용\n",
        "data['customer_country_encoded'] = label_encoder.fit_transform(data['customer_country'].astype(str))\n",
        "data['customer_country_1_encoded'] = label_encoder.fit_transform(data['customer_country.1'].astype(str))\n",
        "data['business_area_encoded'] = label_encoder.fit_transform(data['business_area'].astype(str))\n",
        "data['business_subarea_encoded'] = label_encoder.fit_transform(data['business_subarea'].astype(str))"
      ]
    },
    {
      "cell_type": "code",
      "execution_count": null,
      "id": "a3866eea",
      "metadata": {
        "id": "a3866eea",
        "outputId": "a4c69f9b-e4da-4995-b804-b2ed9f6b88ae"
      },
      "outputs": [
        {
          "name": "stdout",
          "output_type": "stream",
          "text": [
            "                            customer_country_encoded  \\\n",
            "customer_country_encoded                    1.000000   \n",
            "customer_country_1_encoded                  1.000000   \n",
            "business_area_encoded                      -0.012837   \n",
            "business_subarea_encoded                   -0.038088   \n",
            "\n",
            "                            customer_country_1_encoded  business_area_encoded  \\\n",
            "customer_country_encoded                      1.000000              -0.012837   \n",
            "customer_country_1_encoded                    1.000000              -0.012837   \n",
            "business_area_encoded                        -0.012837               1.000000   \n",
            "business_subarea_encoded                     -0.038088               0.179897   \n",
            "\n",
            "                            business_subarea_encoded  \n",
            "customer_country_encoded                   -0.038088  \n",
            "customer_country_1_encoded                 -0.038088  \n",
            "business_area_encoded                       0.179897  \n",
            "business_subarea_encoded                    1.000000  \n"
          ]
        }
      ],
      "source": [
        "# 변환된 데이터로 상관관계 재계산\n",
        "correlation_business = data[[\n",
        "    'customer_country_encoded',\n",
        "    'customer_country_1_encoded',\n",
        "    'business_area_encoded',\n",
        "    'business_subarea_encoded'\n",
        "]].corr()\n",
        "print(correlation_business)"
      ]
    },
    {
      "cell_type": "code",
      "execution_count": null,
      "id": "13aacbe7",
      "metadata": {
        "id": "13aacbe7",
        "outputId": "bbd30f97-f176-482b-d04f-a7a911099413"
      },
      "outputs": [
        {
          "name": "stdout",
          "output_type": "stream",
          "text": [
            "expected_timeline\n",
            "less than 3 months                                                                                                            17250\n",
            "3 months ~ 6 months                                                                                                            5026\n",
            "more than a year                                                                                                               3023\n",
            "9 months ~ 1 year                                                                                                              1101\n",
            "6 months ~ 9 months                                                                                                            1098\n",
            "                                                                                                                              ...  \n",
            "no requirement of this time                                                                                                       1\n",
            "not reachable , lead shared with partner                                                                                          1\n",
            "discussed with client. details mailed to client. no budgets for now wont buy hence closing in the system                          1\n",
            "our partner, vis networks is working on this inquiry and client is cross-checking the prices. hence closing in the system.        1\n",
            "up to december                                                                                                                    1\n",
            "Name: count, Length: 449, dtype: int64\n"
          ]
        }
      ],
      "source": [
        "# expected_timeline 열의 결측치를 제외한 나머지 값들의 분포 확인\n",
        "nomissing_timeline = df_train.dropna(subset=['expected_timeline'])\n",
        "\n",
        "# 분포 확인\n",
        "value_counts = nomissing_timeline['expected_timeline'].value_counts()\n",
        "print(value_counts)"
      ]
    },
    {
      "cell_type": "code",
      "execution_count": null,
      "id": "e6719115",
      "metadata": {
        "id": "e6719115"
      },
      "outputs": [],
      "source": [
        "# 최빈값 계산\n",
        "mode_value = nomissing_country['expected_timeline'].mode()[0]\n",
        "\n",
        "# 결측치를 최빈값으로 대체\n",
        "df_train['expected_timeline'].fillna(mode_value, inplace=True)"
      ]
    },
    {
      "cell_type": "code",
      "execution_count": null,
      "id": "095ed5a3",
      "metadata": {
        "id": "095ed5a3",
        "outputId": "7392835c-21cb-4b82-ad90-e269bce0f79d"
      },
      "outputs": [
        {
          "name": "stdout",
          "output_type": "stream",
          "text": [
            "ver_win_rate_x\n",
            "0.003079    4097\n",
            "0.001183    3011\n",
            "0.000717    2013\n",
            "0.000543    1929\n",
            "0.000298    1818\n",
            "0.000572    1727\n",
            "0.000060    1199\n",
            "0.000215    1035\n",
            "0.000097     650\n",
            "0.000026     519\n",
            "0.000013     306\n",
            "0.000002     113\n",
            "Name: count, dtype: int64\n"
          ]
        },
        {
          "data": {
            "image/png": "[encoded data removed]",
            "text/plain": [
              "<Figure size 640x480 with 1 Axes>"
            ]
          },
          "metadata": {},
          "output_type": "display_data"
        }
      ],
      "source": [
        "# ver_win_rate_x 열의 결측치를 제외한 나머지 값들의 분포 확인\n",
        "nomissing_winrate = df_train.dropna(subset=['ver_win_rate_x'])\n",
        "\n",
        "# 분포 확인\n",
        "value_counts = nomissing_winrate['ver_win_rate_x'].value_counts()\n",
        "print(value_counts)\n",
        "\n",
        "# 분포 확인을 위한 히스토그램 그래프 생성\n",
        "plt.hist(nomissing_winrate['ver_win_rate_x'], bins=20, edgecolor='k')\n",
        "plt.xlabel('ver_win_rate_x')\n",
        "plt.ylabel('Count')\n",
        "plt.title('ver_win_rate_xt_rate Distribution')\n",
        "plt.show()"
      ]
    },
    {
      "cell_type": "code",
      "execution_count": null,
      "id": "9a8fd646",
      "metadata": {
        "id": "9a8fd646"
      },
      "outputs": [],
      "source": [
        "# 중앙값 계산\n",
        "median_value = nomissing_com['ver_win_rate_x'].median()\n",
        "\n",
        "# 결측치를 중앙값으로 대체\n",
        "df_train['ver_win_rate_x'].fillna(median_value, inplace=True)"
      ]
    },
    {
      "cell_type": "code",
      "execution_count": null,
      "id": "fa5b9e17",
      "metadata": {
        "id": "fa5b9e17",
        "outputId": "309ee38d-766e-45fc-e1ca-766d9c44220a"
      },
      "outputs": [
        {
          "name": "stdout",
          "output_type": "stream",
          "text": [
            "ver_win_ratio_per_bu\n",
            "0.064566    2460\n",
            "0.049840    2028\n",
            "0.020121    1365\n",
            "0.048630    1356\n",
            "0.026846    1278\n",
            "0.064070    1075\n",
            "0.071345     984\n",
            "0.011583     788\n",
            "0.022634     713\n",
            "0.060924     540\n",
            "0.079412     421\n",
            "0.036913     403\n",
            "0.035484     385\n",
            "0.031579     271\n",
            "0.053571     216\n",
            "0.051471     210\n",
            "0.028777     200\n",
            "0.022727     173\n",
            "0.128571     156\n",
            "0.131148     148\n",
            "0.227273      62\n",
            "0.285714      43\n",
            "0.034483      29\n",
            "Name: count, dtype: int64\n"
          ]
        },
        {
          "data": {
            "image/png": "[encoded data removed]",
            "text/plain": [
              "<Figure size 640x480 with 1 Axes>"
            ]
          },
          "metadata": {},
          "output_type": "display_data"
        }
      ],
      "source": [
        "# ver_win_ratio_per_bu 열의 결측치를 제외한 나머지 값들의 분포 확인\n",
        "nomissing_winratio = df_train.dropna(subset=['ver_win_ratio_per_bu'])\n",
        "\n",
        "# 분포 확인\n",
        "value_counts = nomissing_winratio['ver_win_ratio_per_bu'].value_counts()\n",
        "print(value_counts)\n",
        "\n",
        "# 분포 확인을 위한 히스토그램 그래프 생성\n",
        "plt.hist(nomissing_winratio['ver_win_ratio_per_bu'], bins=20, edgecolor='k')\n",
        "plt.xlabel('ver_win_ratio_per_bu')\n",
        "plt.ylabel('Count')\n",
        "plt.title('ver_win_ratio_per_bu_rate Distribution')\n",
        "plt.show()"
      ]
    },
    {
      "cell_type": "code",
      "execution_count": null,
      "id": "f3efef32",
      "metadata": {
        "id": "f3efef32"
      },
      "outputs": [],
      "source": [
        "# 중앙값 계산\n",
        "median_value = nomissing_com['ver_win_ratio_per_bu'].median()\n",
        "\n",
        "# 결측치를 중앙값으로 대체\n",
        "df_train['ver_win_ratio_per_bu'].fillna(median_value, inplace=True)"
      ]
    },
    {
      "cell_type": "code",
      "execution_count": null,
      "id": "bcf0f176",
      "metadata": {
        "id": "bcf0f176",
        "outputId": "850f4cfc-53a7-4a7a-ff97-27ab025b7b40"
      },
      "outputs": [
        {
          "name": "stdout",
          "output_type": "stream",
          "text": [
            "business_area\n",
            "corporate / office                4097\n",
            "retail                            3011\n",
            "hotel & accommodation             2013\n",
            "special purpose                   1929\n",
            "residential (home)                1818\n",
            "education                         1727\n",
            "hospital & health care            1199\n",
            "factory                           1035\n",
            "government department              650\n",
            "public facility                    519\n",
            "transportation                     306\n",
            "power plant / renewable energy     113\n",
            "Name: count, dtype: int64\n"
          ]
        }
      ],
      "source": [
        "# business_area 열의 결측치를 제외한 나머지 값들의 분포 확인\n",
        "nomissing_area = df_train.dropna(subset=['business_area'])\n",
        "\n",
        "# 분포 확인\n",
        "value_counts = nomissing_area['business_area'].value_counts()\n",
        "print(value_counts)"
      ]
    },
    {
      "cell_type": "code",
      "execution_count": null,
      "id": "0c23ddff",
      "metadata": {
        "id": "0c23ddff",
        "outputId": "efbf8e54-3251-4885-97df-9a210a1828b0"
      },
      "outputs": [
        {
          "name": "stdout",
          "output_type": "stream",
          "text": [
            "business_subarea\n",
            "Others                           1740\n",
            "Other Stores                      280\n",
            "Hospital                          267\n",
            "Manufacturing Factory / Plant     196\n",
            "Construction                      191\n",
            "                                 ... \n",
            "Duty Free Shop                      2\n",
            "Dormitory                           1\n",
            "Casino Resort                       1\n",
            "Holdings                            1\n",
            "Travel Agency                       1\n",
            "Name: count, Length: 86, dtype: int64\n"
          ]
        }
      ],
      "source": [
        "# business_subarea 열의 결측치를 제외한 나머지 값들의 분포 확인\n",
        "nomissing_subarea = df_train.dropna(subset=['business_subarea'])\n",
        "\n",
        "# 분포 확인\n",
        "value_counts = nomissing_subarea['business_subarea'].value_counts()\n",
        "print(value_counts)"
      ]
    },
    {
      "cell_type": "code",
      "execution_count": null,
      "id": "e89f8445",
      "metadata": {
        "id": "e89f8445"
      },
      "outputs": [],
      "source": [
        "# df_train 내에서 'customer_country'의 최빈값 계산\n",
        "mode_value = df_train['business_area'].mode()[0]\n",
        "\n",
        "# df_train 내의 'customer_country' 열의 결측치를 최빈값으로 대체\n",
        "df_train['business_area'].fillna(mode_value, inplace=True)"
      ]
    },
    {
      "cell_type": "code",
      "execution_count": null,
      "id": "d74980ad",
      "metadata": {
        "id": "d74980ad"
      },
      "outputs": [],
      "source": [
        "# LabelEncoder를 사용하여 'business_area'와 'business_subarea'를 수치형으로 변환\n",
        "label_encoder_area = LabelEncoder()\n",
        "label_encoder_subarea = LabelEncoder()\n",
        "\n",
        "data['business_area_encoded'] = label_encoder_area.fit_transform(data['business_area'].astype(str))\n",
        "data['business_subarea_encoded'] = label_encoder_subarea.fit_transform(data['business_subarea'].astype(str))\n",
        "\n",
        "# 'business_subarea'에 결측치가 있는 행과 없는 행을 분리\n",
        "data_with_subarea = data.dropna(subset=['business_subarea'])\n",
        "data_without_subarea = data[data['business_subarea'].isna()]"
      ]
    },
    {
      "cell_type": "code",
      "execution_count": null,
      "id": "993131a4",
      "metadata": {
        "id": "993131a4"
      },
      "outputs": [],
      "source": [
        "# 훈련 데이터와 테스트 데이터 준비\n",
        "X = data_with_subarea[['business_area_encoded']]\n",
        "y = data_with_subarea['business_subarea_encoded']\n",
        "\n",
        "# 훈련 데이터와 테스트 데이터 분할 (훈련 데이터만 사용하여 모델을 학습)\n",
        "X_train, X_test, y_train, y_test = train_test_split(X, y, test_size=0.2, random_state=42)\n",
        "\n",
        "# RandomForest 분류기 초기화 및 훈련\n",
        "rf_classifier = RandomForestClassifier(random_state=42)\n",
        "rf_classifier.fit(X_train, y_train)\n",
        "\n",
        "# 'business_subarea'가 결측인 데이터에 대해 예측 수행\n",
        "predicted_subarea_encoded = rf_classifier.predict(data_without_subarea[['business_area_encoded']])\n",
        "\n",
        "# 예측된 수치형 'business_subarea'를 원래의 문자열 레이블로 변환\n",
        "predicted_subarea = label_encoder_subarea.inverse_transform(predicted_subarea_encoded)"
      ]
    },
    {
      "cell_type": "code",
      "execution_count": null,
      "id": "c3e24c5e",
      "metadata": {
        "id": "c3e24c5e"
      },
      "outputs": [],
      "source": [
        "# 3단계: 예측된 'business_subarea'로 결측치 대체\n",
        "data.loc[data['business_subarea'].isna(), 'business_subarea'] = predicted_subarea"
      ]
    },
    {
      "cell_type": "code",
      "execution_count": null,
      "id": "338767ae",
      "metadata": {
        "id": "338767ae",
        "outputId": "686bd4fa-6545-4980-acb5-cbcb6029e7ae"
      },
      "outputs": [
        {
          "name": "stdout",
          "output_type": "stream",
          "text": [
            "bant_submit                    0\n",
            "customer_country             982\n",
            "business_unit                  0\n",
            "com_reg_ver_win_rate           0\n",
            "customer_idx                   0\n",
            "customer_type                  0\n",
            "enterprise                     0\n",
            "historical_existing_cnt        0\n",
            "id_strategic_ver               0\n",
            "it_strategic_ver               0\n",
            "idit_strategic_ver             0\n",
            "customer_job                   0\n",
            "lead_desc_length               0\n",
            "inquiry_type                   0\n",
            "product_category               0\n",
            "product_subcategory        50064\n",
            "product_modelname              0\n",
            "customer_country.1           982\n",
            "customer_position              0\n",
            "response_corporate             0\n",
            "expected_timeline              0\n",
            "ver_cus                        0\n",
            "ver_pro                        0\n",
            "ver_win_rate_x                 0\n",
            "ver_win_ratio_per_bu           0\n",
            "business_area                  0\n",
            "business_subarea           53773\n",
            "lead_owner                     0\n",
            "is_converted                   0\n",
            "dtype: int64\n"
          ]
        }
      ],
      "source": [
        "# 결측치가 있는 칼럼 확인\n",
        "print(df_train.isnull().sum())"
      ]
    },
    {
      "cell_type": "code",
      "source": [
        "enterprise_counts = df_train['enterprise'].value_counts()\n",
        "print(enterprise_counts)"
      ],
      "metadata": {
        "colab": {
          "base_uri": "https://localhost:8080/"
        },
        "id": "bt-7MbX4V0mb",
        "outputId": "a5638f98-e177-43ee-f460-35bb26e9bc2a"
      },
      "id": "bt-7MbX4V0mb",
      "execution_count": null,
      "outputs": [
        {
          "output_type": "stream",
          "name": "stdout",
          "text": [
            "Enterprise    37783\n",
            "SMB           21516\n",
            "Name: enterprise, dtype: int64\n"
          ]
        }
      ]
    },
    {
      "cell_type": "markdown",
      "id": "af526c13",
      "metadata": {
        "id": "af526c13"
      },
      "source": [
        "## 2. 데이터 전처리"
      ]
    },
    {
      "cell_type": "markdown",
      "id": "4bd47e00",
      "metadata": {
        "id": "4bd47e00"
      },
      "source": [
        "### 레이블 인코딩"
      ]
    },
    {
      "cell_type": "code",
      "execution_count": null,
      "id": "0b42b1a1",
      "metadata": {
        "id": "0b42b1a1"
      },
      "outputs": [],
      "source": [
        "def label_encoding(series: pd.Series) -> pd.Series:\n",
        "    \"\"\"범주형 데이터를 시리즈 형태로 받아 숫자형 데이터로 변환합니다.\"\"\"\n",
        "\n",
        "    my_dict = {}\n",
        "\n",
        "    # 모든 요소를 문자열로 변환\n",
        "    series = series.astype(str)\n",
        "\n",
        "    for idx, value in enumerate(sorted(series.unique())):\n",
        "        my_dict[value] = idx\n",
        "    series = series.map(my_dict)\n",
        "\n",
        "    return series"
      ]
    },
    {
      "cell_type": "code",
      "execution_count": null,
      "id": "881a4612",
      "metadata": {
        "id": "881a4612"
      },
      "outputs": [],
      "source": [
        "# 레이블 인코딩할 칼럼들\n",
        "label_columns = [\n",
        "    \"customer_country\",\n",
        "    \"business_subarea\",\n",
        "    \"business_area\",\n",
        "    \"business_unit\",\n",
        "    \"customer_type\",\n",
        "    \"enterprise\",\n",
        "    \"customer_job\",\n",
        "    \"inquiry_type\",\n",
        "    \"product_category\",\n",
        "    \"product_subcategory\",\n",
        "    \"product_modelname\",\n",
        "    \"customer_country.1\",\n",
        "    \"customer_position\",\n",
        "    \"response_corporate\",\n",
        "    \"expected_timeline\",\n",
        "]\n",
        "\n",
        "df_all = pd.concat([df_train[label_columns], df_test[label_columns]])\n",
        "\n",
        "for col in label_columns:\n",
        "    df_all[col] = label_encoding(df_all[col])"
      ]
    },
    {
      "cell_type": "markdown",
      "id": "3a477f93",
      "metadata": {
        "id": "3a477f93"
      },
      "source": [
        "다시 학습 데이터와 제출 데이터를 분리합니다."
      ]
    },
    {
      "cell_type": "code",
      "execution_count": null,
      "id": "ff10c5fb",
      "metadata": {
        "id": "ff10c5fb"
      },
      "outputs": [],
      "source": [
        "for col in label_columns:\n",
        "    df_train[col] = df_all.iloc[: len(df_train)][col]\n",
        "    df_test[col] = df_all.iloc[len(df_train) :][col]"
      ]
    },
    {
      "cell_type": "markdown",
      "id": "d332358a",
      "metadata": {
        "id": "d332358a"
      },
      "source": [
        "### 2-2. 학습, 검증 데이터 분리"
      ]
    },
    {
      "cell_type": "code",
      "execution_count": null,
      "id": "27c9e205",
      "metadata": {
        "id": "27c9e205"
      },
      "outputs": [],
      "source": [
        "x_train, x_val, y_train, y_val = train_test_split(\n",
        "    df_train.drop(\"is_converted\", axis=1),\n",
        "    df_train[\"is_converted\"],\n",
        "    test_size=0.2,\n",
        "    shuffle=True,\n",
        "    random_state=400,\n",
        ")"
      ]
    },
    {
      "cell_type": "markdown",
      "id": "79ecfa9b",
      "metadata": {
        "id": "79ecfa9b"
      },
      "source": [
        "## 3. 모델 학습"
      ]
    },
    {
      "cell_type": "markdown",
      "id": "3caf257b",
      "metadata": {
        "id": "3caf257b"
      },
      "source": [
        "### 모델 정의"
      ]
    },
    {
      "cell_type": "code",
      "execution_count": null,
      "id": "e4509af0",
      "metadata": {
        "id": "e4509af0"
      },
      "outputs": [],
      "source": [
        "model = DecisionTreeClassifier()"
      ]
    },
    {
      "cell_type": "markdown",
      "id": "cacd5ed8",
      "metadata": {
        "id": "cacd5ed8"
      },
      "source": [
        "### 모델 학습"
      ]
    },
    {
      "cell_type": "code",
      "execution_count": null,
      "id": "766d1980",
      "metadata": {
        "id": "766d1980",
        "outputId": "a662e576-d76f-4fba-f520-875b4f822134"
      },
      "outputs": [
        {
          "data": {
            "text/html": [
              "<style>#sk-container-id-1 {color: black;background-color: white;}#sk-container-id-1 pre{padding: 0;}#sk-container-id-1 div.sk-toggleable {background-color: white;}#sk-container-id-1 label.sk-toggleable__label {cursor: pointer;display: block;width: 100%;margin-bottom: 0;padding: 0.3em;box-sizing: border-box;text-align: center;}#sk-container-id-1 label.sk-toggleable__label-arrow:before {content: \"▸\";float: left;margin-right: 0.25em;color: #696969;}#sk-container-id-1 label.sk-toggleable__label-arrow:hover:before {color: black;}#sk-container-id-1 div.sk-estimator:hover label.sk-toggleable__label-arrow:before {color: black;}#sk-container-id-1 div.sk-toggleable__content {max-height: 0;max-width: 0;overflow: hidden;text-align: left;background-color: #f0f8ff;}#sk-container-id-1 div.sk-toggleable__content pre {margin: 0.2em;color: black;border-radius: 0.25em;background-color: #f0f8ff;}#sk-container-id-1 input.sk-toggleable__control:checked~div.sk-toggleable__content {max-height: 200px;max-width: 100%;overflow: auto;}#sk-container-id-1 input.sk-toggleable__control:checked~label.sk-toggleable__label-arrow:before {content: \"▾\";}#sk-container-id-1 div.sk-estimator input.sk-toggleable__control:checked~label.sk-toggleable__label {background-color: #d4ebff;}#sk-container-id-1 div.sk-label input.sk-toggleable__control:checked~label.sk-toggleable__label {background-color: #d4ebff;}#sk-container-id-1 input.sk-hidden--visually {border: 0;clip: rect(1px 1px 1px 1px);clip: rect(1px, 1px, 1px, 1px);height: 1px;margin: -1px;overflow: hidden;padding: 0;position: absolute;width: 1px;}#sk-container-id-1 div.sk-estimator {font-family: monospace;background-color: #f0f8ff;border: 1px dotted black;border-radius: 0.25em;box-sizing: border-box;margin-bottom: 0.5em;}#sk-container-id-1 div.sk-estimator:hover {background-color: #d4ebff;}#sk-container-id-1 div.sk-parallel-item::after {content: \"\";width: 100%;border-bottom: 1px solid gray;flex-grow: 1;}#sk-container-id-1 div.sk-label:hover label.sk-toggleable__label {background-color: #d4ebff;}#sk-container-id-1 div.sk-serial::before {content: \"\";position: absolute;border-left: 1px solid gray;box-sizing: border-box;top: 0;bottom: 0;left: 50%;z-index: 0;}#sk-container-id-1 div.sk-serial {display: flex;flex-direction: column;align-items: center;background-color: white;padding-right: 0.2em;padding-left: 0.2em;position: relative;}#sk-container-id-1 div.sk-item {position: relative;z-index: 1;}#sk-container-id-1 div.sk-parallel {display: flex;align-items: stretch;justify-content: center;background-color: white;position: relative;}#sk-container-id-1 div.sk-item::before, #sk-container-id-1 div.sk-parallel-item::before {content: \"\";position: absolute;border-left: 1px solid gray;box-sizing: border-box;top: 0;bottom: 0;left: 50%;z-index: -1;}#sk-container-id-1 div.sk-parallel-item {display: flex;flex-direction: column;z-index: 1;position: relative;background-color: white;}#sk-container-id-1 div.sk-parallel-item:first-child::after {align-self: flex-end;width: 50%;}#sk-container-id-1 div.sk-parallel-item:last-child::after {align-self: flex-start;width: 50%;}#sk-container-id-1 div.sk-parallel-item:only-child::after {width: 0;}#sk-container-id-1 div.sk-dashed-wrapped {border: 1px dashed gray;margin: 0 0.4em 0.5em 0.4em;box-sizing: border-box;padding-bottom: 0.4em;background-color: white;}#sk-container-id-1 div.sk-label label {font-family: monospace;font-weight: bold;display: inline-block;line-height: 1.2em;}#sk-container-id-1 div.sk-label-container {text-align: center;}#sk-container-id-1 div.sk-container {/* jupyter's `normalize.less` sets `[hidden] { display: none; }` but bootstrap.min.css set `[hidden] { display: none !important; }` so we also need the `!important` here to be able to override the default hidden behavior on the sphinx rendered scikit-learn.org. See: https://github.com/scikit-learn/scikit-learn/issues/21755 */display: inline-block !important;position: relative;}#sk-container-id-1 div.sk-text-repr-fallback {display: none;}</style><div id=\"sk-container-id-1\" class=\"sk-top-container\"><div class=\"sk-text-repr-fallback\"><pre>DecisionTreeClassifier()</pre><b>In a Jupyter environment, please rerun this cell to show the HTML representation or trust the notebook. <br />On GitHub, the HTML representation is unable to render, please try loading this page with nbviewer.org.</b></div><div class=\"sk-container\" hidden><div class=\"sk-item\"><div class=\"sk-estimator sk-toggleable\"><input class=\"sk-toggleable__control sk-hidden--visually\" id=\"sk-estimator-id-1\" type=\"checkbox\" checked><label for=\"sk-estimator-id-1\" class=\"sk-toggleable__label sk-toggleable__label-arrow\">DecisionTreeClassifier</label><div class=\"sk-toggleable__content\"><pre>DecisionTreeClassifier()</pre></div></div></div></div></div>"
            ],
            "text/plain": [
              "DecisionTreeClassifier()"
            ]
          },
          "execution_count": 57,
          "metadata": {},
          "output_type": "execute_result"
        }
      ],
      "source": [
        "model.fit(x_train.fillna(0), y_train)"
      ]
    },
    {
      "cell_type": "markdown",
      "id": "6bf2de5f",
      "metadata": {
        "id": "6bf2de5f"
      },
      "source": [
        "### 모델 성능 보기"
      ]
    },
    {
      "cell_type": "code",
      "source": [],
      "metadata": {
        "id": "rSCFeMZntsPB"
      },
      "id": "rSCFeMZntsPB",
      "execution_count": null,
      "outputs": []
    },
    {
      "cell_type": "code",
      "execution_count": null,
      "id": "c8871444",
      "metadata": {
        "id": "c8871444"
      },
      "outputs": [],
      "source": [
        "def get_clf_eval(y_test, y_pred=None):\n",
        "    confusion = confusion_matrix(y_test, y_pred, labels=[True, False])\n",
        "    accuracy = accuracy_score(y_test, y_pred)\n",
        "    precision = precision_score(y_test, y_pred, labels=[True, False])\n",
        "    recall = recall_score(y_test, y_pred)\n",
        "    F1 = f1_score(y_test, y_pred, labels=[True, False])\n",
        "\n",
        "    print(\"오차행렬:\\n\", confusion)\n",
        "    print(\"\\n정확도: {:.4f}\".format(accuracy))\n",
        "    print(\"정밀도: {:.4f}\".format(precision))\n",
        "    print(\"재현율: {:.4f}\".format(recall))\n",
        "    print(\"F1: {:.4f}\".format(F1))"
      ]
    },
    {
      "cell_type": "code",
      "execution_count": null,
      "id": "56a86373",
      "metadata": {
        "id": "56a86373",
        "outputId": "078cf0f4-4dbb-4647-fde6-bfc73809bb63"
      },
      "outputs": [
        {
          "name": "stdout",
          "output_type": "stream",
          "text": [
            "오차행렬:\n",
            " [[  732   215]\n",
            " [  268 10645]]\n",
            "\n",
            "정확도: 0.9593\n",
            "정밀도: 0.7320\n",
            "재현율: 0.7730\n",
            "F1: 0.7519\n"
          ]
        }
      ],
      "source": [
        "pred = model.predict(x_val.fillna(0))\n",
        "get_clf_eval(y_val, pred)"
      ]
    },
    {
      "cell_type": "markdown",
      "id": "0750c547",
      "metadata": {
        "id": "0750c547"
      },
      "source": [
        "## RandomForestClasifier"
      ]
    },
    {
      "cell_type": "code",
      "execution_count": null,
      "id": "796dee84",
      "metadata": {
        "id": "796dee84",
        "outputId": "4437afae-b081-4c69-c93a-1ab4da7bdb22"
      },
      "outputs": [
        {
          "name": "stdout",
          "output_type": "stream",
          "text": [
            "Model accuracy: 0.9713322091062394\n"
          ]
        }
      ],
      "source": [
        "from sklearn.model_selection import train_test_split\n",
        "from sklearn.ensemble import RandomForestClassifier\n",
        "from sklearn.metrics import accuracy_score\n",
        "\n",
        "# 데이터 준비\n",
        "# 타겟 변수 (여기서는 'is_converted'를 예로 들었습니다)와 특성 변수를 분리\n",
        "X = df_train.drop(['is_converted', 'com_reg_ver_win_rate', 'lead_desc_length'], axis=1)\n",
        "y = df_train['is_converted']\n",
        "\n",
        "# 데이터 전처리 (범주형 변수 인코딩, 결측치 처리 등)은 이미 완료되었다고 가정\n",
        "\n",
        "# 훈련 데이터와 테스트 데이터 분할\n",
        "X_train, X_test, y_train, y_test = train_test_split(X, y, test_size=0.2, random_state=42)\n",
        "\n",
        "# 모델 학습\n",
        "rf_classifier = RandomForestClassifier(random_state=42)\n",
        "rf_classifier.fit(X_train, y_train)\n",
        "\n",
        "# 예측 수행\n",
        "y_pred = rf_classifier.predict(X_test)\n",
        "\n",
        "# 모델 평가\n",
        "accuracy = accuracy_score(y_test, y_pred)\n",
        "print(f'Model accuracy: {accuracy}')"
      ]
    },
    {
      "cell_type": "code",
      "execution_count": null,
      "id": "7c46d192",
      "metadata": {
        "id": "7c46d192",
        "outputId": "a4500ac0-7ca5-4453-c735-80c81ef8043b"
      },
      "outputs": [
        {
          "name": "stdout",
          "output_type": "stream",
          "text": [
            "Model F1 Score: 0.7976190476190477\n"
          ]
        }
      ],
      "source": [
        "from sklearn.metrics import f1_score\n",
        "\n",
        "# F1 점수 계산\n",
        "f1 = f1_score(y_test, y_pred)\n",
        "print(f'Model F1 Score: {f1}')"
      ]
    },
    {
      "cell_type": "markdown",
      "id": "7adf8300",
      "metadata": {
        "id": "7adf8300"
      },
      "source": [
        "## 4. 제출하기"
      ]
    },
    {
      "cell_type": "markdown",
      "id": "9d0b6e17",
      "metadata": {
        "id": "9d0b6e17"
      },
      "source": [
        "### 테스트 데이터 예측"
      ]
    },
    {
      "cell_type": "code",
      "execution_count": null,
      "id": "de671011",
      "metadata": {
        "id": "de671011"
      },
      "outputs": [],
      "source": [
        "# 예측에 필요한 데이터 분리\n",
        "x_test = df_test.drop([\"is_converted\", \"id\"], axis=1)"
      ]
    },
    {
      "cell_type": "code",
      "execution_count": null,
      "id": "d13f7a6e",
      "metadata": {
        "id": "d13f7a6e",
        "outputId": "71c93da8-d54e-4788-fae7-e1fdcf3ed8d6"
      },
      "outputs": [
        {
          "name": "stdout",
          "output_type": "stream",
          "text": [
            "Number of positive predictions: 139\n"
          ]
        }
      ],
      "source": [
        "# 'com_reg_ver_win_rate'와 'lead_desc_length' 특성을 제외한 데이터로 예측 수행\n",
        "x_test = x_test.drop(['com_reg_ver_win_rate', 'lead_desc_length'], axis=1, errors='ignore')\n",
        "test_pred = rf_classifier.predict(x_test.fillna(0))\n",
        "\n",
        "# True로 예측된 개수\n",
        "num_positive_predictions = sum(test_pred)\n",
        "print(f'Number of positive predictions: {num_positive_predictions}')"
      ]
    },
    {
      "cell_type": "markdown",
      "id": "47f18e6a",
      "metadata": {
        "id": "47f18e6a"
      },
      "source": [
        "### 제출 파일 작성"
      ]
    },
    {
      "cell_type": "code",
      "execution_count": null,
      "id": "3128a458",
      "metadata": {
        "id": "3128a458"
      },
      "outputs": [],
      "source": [
        "# 제출 데이터 읽어오기 (df_test는 전처리된 데이터가 저장됨)\n",
        "df_sub = pd.read_csv(\"submission.csv\")\n",
        "df_sub[\"is_converted\"] = test_pred\n",
        "\n",
        "# 제출 파일 저장\n",
        "df_sub.to_csv(\"submission.csv\", index=False)"
      ]
    },
    {
      "cell_type": "markdown",
      "id": "ec7867ce",
      "metadata": {
        "id": "ec7867ce"
      },
      "source": [
        "**우측 상단의 제출 버튼을 클릭해 결과를 확인하세요**"
      ]
    }
  ],
  "metadata": {
    "kernelspec": {
      "display_name": "Python 3 (ipykernel)",
      "language": "python",
      "name": "python3"
    },
    "language_info": {
      "codemirror_mode": {
        "name": "ipython",
        "version": 3
      },
      "file_extension": ".py",
      "mimetype": "text/x-python",
      "name": "python",
      "nbconvert_exporter": "python",
      "pygments_lexer": "ipython3",
      "version": "3.10.13"
    },
    "colab": {
      "provenance": []
    }
  },
  "nbformat": 4,
  "nbformat_minor": 5
}