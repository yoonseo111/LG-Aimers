{
  "cells": [
    {
      "cell_type": "markdown",
      "id": "017e9265",
      "metadata": {
        "id": "017e9265"
      },
      "source": [
        "# 영업 성공 여부 분류 경진대회"
      ]
    },
    {
      "cell_type": "markdown",
      "id": "acdab431",
      "metadata": {
        "id": "acdab431"
      },
      "source": [
        "## 1. 데이터 확인"
      ]
    },
    {
      "cell_type": "markdown",
      "id": "2b8341e8",
      "metadata": {
        "id": "2b8341e8"
      },
      "source": [
        "### 필수 라이브러리"
      ]
    },
    {
      "cell_type": "code",
      "execution_count": null,
      "id": "a315cc58",
      "metadata": {
        "id": "a315cc58"
      },
      "outputs": [],
      "source": [
        "import pandas as pd\n",
        "import numpy as np\n",
        "from sklearn.metrics import (\n",
        "    accuracy_score,\n",
        "    confusion_matrix,\n",
        "    f1_score,\n",
        "    precision_score,\n",
        "    recall_score,\n",
        ")\n",
        "from sklearn.model_selection import train_test_split\n",
        "from sklearn.tree import DecisionTreeClassifier\n",
        "import pandas as pd\n",
        "from sklearn.model_selection import train_test_split\n",
        "from lightgbm import LGBMClassifier\n",
        "from sklearn.metrics import accuracy_score, confusion_matrix, classification_report"
      ]
    },
    {
      "cell_type": "markdown",
      "id": "412f98cc",
      "metadata": {
        "id": "412f98cc"
      },
      "source": [
        "### 데이터 셋 읽어오기"
      ]
    },
    {
      "cell_type": "code",
      "execution_count": null,
      "id": "7ada941e",
      "metadata": {
        "id": "7ada941e"
      },
      "outputs": [],
      "source": [
        "df_train = pd.read_csv(\"train.csv\") # 학습용 데이터\n",
        "df_test = pd.read_csv(\"submission.csv\") # 테스트 데이터(제출파일의 데이터)"
      ]
    },
    {
      "cell_type": "code",
      "execution_count": null,
      "id": "be9af12a",
      "metadata": {
        "id": "be9af12a",
        "outputId": "8c9bbed3-fb24-455a-963f-91d4d9fb24fb"
      },
      "outputs": [
        {
          "data": {
            "text/html": [
              "<div>\n",
              "<style scoped>\n",
              "    .dataframe tbody tr th:only-of-type {\n",
              "        vertical-align: middle;\n",
              "    }\n",
              "\n",
              "    .dataframe tbody tr th {\n",
              "        vertical-align: top;\n",
              "    }\n",
              "\n",
              "    .dataframe thead th {\n",
              "        text-align: right;\n",
              "    }\n",
              "</style>\n",
              "<table border=\"1\" class=\"dataframe\">\n",
              "  <thead>\n",
              "    <tr style=\"text-align: right;\">\n",
              "      <th></th>\n",
              "      <th>bant_submit</th>\n",
              "      <th>customer_country</th>\n",
              "      <th>business_unit</th>\n",
              "      <th>com_reg_ver_win_rate</th>\n",
              "      <th>customer_idx</th>\n",
              "      <th>customer_type</th>\n",
              "      <th>enterprise</th>\n",
              "      <th>historical_existing_cnt</th>\n",
              "      <th>id_strategic_ver</th>\n",
              "      <th>it_strategic_ver</th>\n",
              "      <th>...</th>\n",
              "      <th>response_corporate</th>\n",
              "      <th>expected_timeline</th>\n",
              "      <th>ver_cus</th>\n",
              "      <th>ver_pro</th>\n",
              "      <th>ver_win_rate_x</th>\n",
              "      <th>ver_win_ratio_per_bu</th>\n",
              "      <th>business_area</th>\n",
              "      <th>business_subarea</th>\n",
              "      <th>lead_owner</th>\n",
              "      <th>is_converted</th>\n",
              "    </tr>\n",
              "  </thead>\n",
              "  <tbody>\n",
              "    <tr>\n",
              "      <th>0</th>\n",
              "      <td>1.0</td>\n",
              "      <td>/Quezon City/Philippines</td>\n",
              "      <td>AS</td>\n",
              "      <td>0.066667</td>\n",
              "      <td>32160</td>\n",
              "      <td>End-Customer</td>\n",
              "      <td>Enterprise</td>\n",
              "      <td>NaN</td>\n",
              "      <td>NaN</td>\n",
              "      <td>NaN</td>\n",
              "      <td>...</td>\n",
              "      <td>LGEPH</td>\n",
              "      <td>less than 3 months</td>\n",
              "      <td>1</td>\n",
              "      <td>0</td>\n",
              "      <td>0.003079</td>\n",
              "      <td>0.026846</td>\n",
              "      <td>corporate / office</td>\n",
              "      <td>Engineering</td>\n",
              "      <td>0</td>\n",
              "      <td>True</td>\n",
              "    </tr>\n",
              "    <tr>\n",
              "      <th>1</th>\n",
              "      <td>1.0</td>\n",
              "      <td>/PH-00/Philippines</td>\n",
              "      <td>AS</td>\n",
              "      <td>0.066667</td>\n",
              "      <td>23122</td>\n",
              "      <td>End-Customer</td>\n",
              "      <td>Enterprise</td>\n",
              "      <td>12.0</td>\n",
              "      <td>NaN</td>\n",
              "      <td>NaN</td>\n",
              "      <td>...</td>\n",
              "      <td>LGEPH</td>\n",
              "      <td>less than 3 months</td>\n",
              "      <td>1</td>\n",
              "      <td>0</td>\n",
              "      <td>0.003079</td>\n",
              "      <td>0.026846</td>\n",
              "      <td>corporate / office</td>\n",
              "      <td>Advertising</td>\n",
              "      <td>1</td>\n",
              "      <td>True</td>\n",
              "    </tr>\n",
              "    <tr>\n",
              "      <th>2</th>\n",
              "      <td>1.0</td>\n",
              "      <td>/Kolkata /India</td>\n",
              "      <td>AS</td>\n",
              "      <td>0.088889</td>\n",
              "      <td>1755</td>\n",
              "      <td>End-Customer</td>\n",
              "      <td>Enterprise</td>\n",
              "      <td>144.0</td>\n",
              "      <td>NaN</td>\n",
              "      <td>NaN</td>\n",
              "      <td>...</td>\n",
              "      <td>LGEIL</td>\n",
              "      <td>less than 3 months</td>\n",
              "      <td>1</td>\n",
              "      <td>0</td>\n",
              "      <td>0.003079</td>\n",
              "      <td>0.026846</td>\n",
              "      <td>corporate / office</td>\n",
              "      <td>Construction</td>\n",
              "      <td>2</td>\n",
              "      <td>True</td>\n",
              "    </tr>\n",
              "    <tr>\n",
              "      <th>3</th>\n",
              "      <td>1.0</td>\n",
              "      <td>/Bhubaneswar/India</td>\n",
              "      <td>AS</td>\n",
              "      <td>0.088889</td>\n",
              "      <td>4919</td>\n",
              "      <td>End-Customer</td>\n",
              "      <td>Enterprise</td>\n",
              "      <td>NaN</td>\n",
              "      <td>NaN</td>\n",
              "      <td>NaN</td>\n",
              "      <td>...</td>\n",
              "      <td>LGEIL</td>\n",
              "      <td>less than 3 months</td>\n",
              "      <td>1</td>\n",
              "      <td>0</td>\n",
              "      <td>0.003079</td>\n",
              "      <td>0.026846</td>\n",
              "      <td>corporate / office</td>\n",
              "      <td>IT/Software</td>\n",
              "      <td>3</td>\n",
              "      <td>True</td>\n",
              "    </tr>\n",
              "    <tr>\n",
              "      <th>4</th>\n",
              "      <td>1.0</td>\n",
              "      <td>/Hyderabad/India</td>\n",
              "      <td>AS</td>\n",
              "      <td>0.088889</td>\n",
              "      <td>17126</td>\n",
              "      <td>Specifier/ Influencer</td>\n",
              "      <td>Enterprise</td>\n",
              "      <td>NaN</td>\n",
              "      <td>NaN</td>\n",
              "      <td>NaN</td>\n",
              "      <td>...</td>\n",
              "      <td>LGEIL</td>\n",
              "      <td>less than 3 months</td>\n",
              "      <td>0</td>\n",
              "      <td>0</td>\n",
              "      <td>0.003079</td>\n",
              "      <td>0.026846</td>\n",
              "      <td>corporate / office</td>\n",
              "      <td>NaN</td>\n",
              "      <td>4</td>\n",
              "      <td>True</td>\n",
              "    </tr>\n",
              "  </tbody>\n",
              "</table>\n",
              "<p>5 rows × 29 columns</p>\n",
              "</div>"
            ],
            "text/plain": [
              "   bant_submit          customer_country business_unit  com_reg_ver_win_rate  \\\n",
              "0          1.0  /Quezon City/Philippines            AS              0.066667   \n",
              "1          1.0        /PH-00/Philippines            AS              0.066667   \n",
              "2          1.0           /Kolkata /India            AS              0.088889   \n",
              "3          1.0        /Bhubaneswar/India            AS              0.088889   \n",
              "4          1.0          /Hyderabad/India            AS              0.088889   \n",
              "\n",
              "   customer_idx          customer_type  enterprise  historical_existing_cnt  \\\n",
              "0         32160           End-Customer  Enterprise                      NaN   \n",
              "1         23122           End-Customer  Enterprise                     12.0   \n",
              "2          1755           End-Customer  Enterprise                    144.0   \n",
              "3          4919           End-Customer  Enterprise                      NaN   \n",
              "4         17126  Specifier/ Influencer  Enterprise                      NaN   \n",
              "\n",
              "   id_strategic_ver  it_strategic_ver  ...  response_corporate  \\\n",
              "0               NaN               NaN  ...               LGEPH   \n",
              "1               NaN               NaN  ...               LGEPH   \n",
              "2               NaN               NaN  ...               LGEIL   \n",
              "3               NaN               NaN  ...               LGEIL   \n",
              "4               NaN               NaN  ...               LGEIL   \n",
              "\n",
              "    expected_timeline  ver_cus ver_pro ver_win_rate_x ver_win_ratio_per_bu  \\\n",
              "0  less than 3 months        1       0       0.003079             0.026846   \n",
              "1  less than 3 months        1       0       0.003079             0.026846   \n",
              "2  less than 3 months        1       0       0.003079             0.026846   \n",
              "3  less than 3 months        1       0       0.003079             0.026846   \n",
              "4  less than 3 months        0       0       0.003079             0.026846   \n",
              "\n",
              "        business_area business_subarea lead_owner is_converted  \n",
              "0  corporate / office      Engineering          0         True  \n",
              "1  corporate / office      Advertising          1         True  \n",
              "2  corporate / office     Construction          2         True  \n",
              "3  corporate / office      IT/Software          3         True  \n",
              "4  corporate / office              NaN          4         True  \n",
              "\n",
              "[5 rows x 29 columns]"
            ]
          },
          "execution_count": 3,
          "metadata": {},
          "output_type": "execute_result"
        }
      ],
      "source": [
        "df_train.head() # 학습용 데이터 살펴보기"
      ]
    },
    {
      "cell_type": "code",
      "execution_count": null,
      "id": "ea130bf9",
      "metadata": {
        "id": "ea130bf9"
      },
      "outputs": [],
      "source": [
        "# product_subcategory 변수 제거\n",
        "df_train.drop(columns=['product_subcategory'], inplace=True)\n",
        "df_test.drop(columns=['product_subcategory'], inplace=True)"
      ]
    },
    {
      "cell_type": "code",
      "execution_count": null,
      "id": "198e4ed8",
      "metadata": {
        "id": "198e4ed8"
      },
      "outputs": [],
      "source": [
        "# product_subcategory 변수 제거\n",
        "df_train.drop(columns=['customer_country.1'], inplace=True)\n",
        "df_test.drop(columns=['customer_country.1'], inplace=True)"
      ]
    },
    {
      "cell_type": "code",
      "execution_count": null,
      "id": "9f149807",
      "metadata": {
        "id": "9f149807"
      },
      "outputs": [],
      "source": [
        "# product_subcategory 변수 제거\n",
        "df_train.drop(columns=['product_modelname'], inplace=True)\n",
        "df_test.drop(columns=['product_modelname'], inplace=True)"
      ]
    },
    {
      "cell_type": "code",
      "execution_count": null,
      "id": "52487b55",
      "metadata": {
        "id": "52487b55"
      },
      "outputs": [],
      "source": [
        "# 'id_strategic_ver', 'it_strategic_ver', 'idit_strategic_ver' 열의 결측치를 0으로 대체\n",
        "df_train['id_strategic_ver'].fillna(0, inplace=True)\n",
        "df_train['it_strategic_ver'].fillna(0, inplace=True)\n",
        "df_train['idit_strategic_ver'].fillna(0, inplace=True)\n",
        "\n",
        "df_test['id_strategic_ver'].fillna(0, inplace=True)\n",
        "df_test['it_strategic_ver'].fillna(0, inplace=True)\n",
        "df_test['idit_strategic_ver'].fillna(0, inplace=True)"
      ]
    },
    {
      "cell_type": "code",
      "execution_count": null,
      "id": "eff66d97",
      "metadata": {
        "id": "eff66d97"
      },
      "outputs": [],
      "source": [
        "# 최빈값 계산\n",
        "train_type = df_train['customer_type'].mode()[0]\n",
        "test_type = df_test['customer_type'].mode()[0]\n",
        "\n",
        "# 결측치를 최빈값으로 대체\n",
        "df_train['customer_type'].fillna(train_type, inplace=True)\n",
        "df_test['customer_type'].fillna(test_type, inplace=True)"
      ]
    },
    {
      "cell_type": "code",
      "execution_count": null,
      "id": "b23ede85",
      "metadata": {
        "id": "b23ede85",
        "outputId": "7618694a-1a65-4d33-f350-ec36ee4cd7c6"
      },
      "outputs": [
        {
          "name": "stdout",
          "output_type": "stream",
          "text": [
            "bant_submit                    0\n",
            "customer_country             982\n",
            "business_unit                  0\n",
            "com_reg_ver_win_rate       44731\n",
            "customer_idx                   0\n",
            "customer_type                  0\n",
            "enterprise                     0\n",
            "historical_existing_cnt    45543\n",
            "id_strategic_ver               0\n",
            "it_strategic_ver               0\n",
            "idit_strategic_ver             0\n",
            "customer_job               18733\n",
            "lead_desc_length               0\n",
            "inquiry_type                 941\n",
            "product_category           19374\n",
            "customer_position              0\n",
            "response_corporate             0\n",
            "expected_timeline          30863\n",
            "ver_cus                        0\n",
            "ver_pro                        0\n",
            "ver_win_rate_x             40882\n",
            "ver_win_ratio_per_bu       43995\n",
            "business_area              40882\n",
            "business_subarea           53773\n",
            "lead_owner                     0\n",
            "is_converted                   0\n",
            "dtype: int64\n"
          ]
        }
      ],
      "source": [
        "# 결측치가 있는 칼럼 확인\n",
        "print(df_train.isnull().sum())"
      ]
    },
    {
      "cell_type": "markdown",
      "id": "af526c13",
      "metadata": {
        "id": "af526c13"
      },
      "source": [
        "## 2. 데이터 전처리"
      ]
    },
    {
      "cell_type": "markdown",
      "id": "4bd47e00",
      "metadata": {
        "id": "4bd47e00"
      },
      "source": [
        "### 레이블 인코딩"
      ]
    },
    {
      "cell_type": "code",
      "execution_count": null,
      "id": "0b42b1a1",
      "metadata": {
        "id": "0b42b1a1"
      },
      "outputs": [],
      "source": [
        "def label_encoding(series: pd.Series) -> pd.Series:\n",
        "    \"\"\"범주형 데이터를 시리즈 형태로 받아 숫자형 데이터로 변환합니다.\"\"\"\n",
        "\n",
        "    my_dict = {}\n",
        "\n",
        "    # 모든 요소를 문자열로 변환\n",
        "    series = series.astype(str)\n",
        "\n",
        "    for idx, value in enumerate(sorted(series.unique())):\n",
        "        my_dict[value] = idx\n",
        "    series = series.map(my_dict)\n",
        "\n",
        "    return series"
      ]
    },
    {
      "cell_type": "code",
      "execution_count": null,
      "id": "881a4612",
      "metadata": {
        "id": "881a4612"
      },
      "outputs": [],
      "source": [
        "# 레이블 인코딩할 칼럼들\n",
        "label_columns = [\n",
        "    \"customer_country\",\n",
        "    \"business_subarea\",\n",
        "    \"business_area\",\n",
        "    \"business_unit\",\n",
        "    \"customer_type\",\n",
        "    \"enterprise\",\n",
        "    \"customer_job\",\n",
        "    \"inquiry_type\",\n",
        "    \"product_category\",\n",
        "    \"customer_position\",\n",
        "    \"response_corporate\",\n",
        "    \"expected_timeline\",\n",
        "]\n",
        "\n",
        "df_all = pd.concat([df_train[label_columns], df_test[label_columns]])\n",
        "\n",
        "for col in label_columns:\n",
        "    df_all[col] = label_encoding(df_all[col])"
      ]
    },
    {
      "cell_type": "code",
      "execution_count": null,
      "id": "ff10c5fb",
      "metadata": {
        "id": "ff10c5fb"
      },
      "outputs": [],
      "source": [
        "for col in label_columns:\n",
        "    df_train[col] = df_all.iloc[: len(df_train)][col]\n",
        "    df_test[col] = df_all.iloc[len(df_train) :][col]"
      ]
    },
    {
      "cell_type": "markdown",
      "id": "d332358a",
      "metadata": {
        "id": "d332358a"
      },
      "source": [
        "### 2-2. 학습, 검증 데이터 분리"
      ]
    },
    {
      "cell_type": "code",
      "execution_count": null,
      "id": "27c9e205",
      "metadata": {
        "id": "27c9e205"
      },
      "outputs": [],
      "source": [
        "x_train, x_val, y_train, y_val = train_test_split(\n",
        "    df_train.drop(\"is_converted\", axis=1),\n",
        "    df_train[\"is_converted\"],\n",
        "    test_size=0.2,\n",
        "    shuffle=True,\n",
        "    random_state=400,\n",
        ")"
      ]
    },
    {
      "cell_type": "markdown",
      "id": "79ecfa9b",
      "metadata": {
        "id": "79ecfa9b"
      },
      "source": [
        "## 3. 모델 학습"
      ]
    },
    {
      "cell_type": "markdown",
      "id": "3caf257b",
      "metadata": {
        "id": "3caf257b"
      },
      "source": [
        "### 모델 정의"
      ]
    },
    {
      "cell_type": "code",
      "execution_count": null,
      "id": "e4509af0",
      "metadata": {
        "id": "e4509af0"
      },
      "outputs": [],
      "source": [
        "model = DecisionTreeClassifier()"
      ]
    },
    {
      "cell_type": "code",
      "execution_count": null,
      "id": "7886cbac",
      "metadata": {
        "id": "7886cbac",
        "outputId": "2327f53f-f49f-4126-986c-5b43df25d627"
      },
      "outputs": [
        {
          "data": {
            "text/html": [
              "<style>#sk-container-id-1 {color: black;background-color: white;}#sk-container-id-1 pre{padding: 0;}#sk-container-id-1 div.sk-toggleable {background-color: white;}#sk-container-id-1 label.sk-toggleable__label {cursor: pointer;display: block;width: 100%;margin-bottom: 0;padding: 0.3em;box-sizing: border-box;text-align: center;}#sk-container-id-1 label.sk-toggleable__label-arrow:before {content: \"▸\";float: left;margin-right: 0.25em;color: #696969;}#sk-container-id-1 label.sk-toggleable__label-arrow:hover:before {color: black;}#sk-container-id-1 div.sk-estimator:hover label.sk-toggleable__label-arrow:before {color: black;}#sk-container-id-1 div.sk-toggleable__content {max-height: 0;max-width: 0;overflow: hidden;text-align: left;background-color: #f0f8ff;}#sk-container-id-1 div.sk-toggleable__content pre {margin: 0.2em;color: black;border-radius: 0.25em;background-color: #f0f8ff;}#sk-container-id-1 input.sk-toggleable__control:checked~div.sk-toggleable__content {max-height: 200px;max-width: 100%;overflow: auto;}#sk-container-id-1 input.sk-toggleable__control:checked~label.sk-toggleable__label-arrow:before {content: \"▾\";}#sk-container-id-1 div.sk-estimator input.sk-toggleable__control:checked~label.sk-toggleable__label {background-color: #d4ebff;}#sk-container-id-1 div.sk-label input.sk-toggleable__control:checked~label.sk-toggleable__label {background-color: #d4ebff;}#sk-container-id-1 input.sk-hidden--visually {border: 0;clip: rect(1px 1px 1px 1px);clip: rect(1px, 1px, 1px, 1px);height: 1px;margin: -1px;overflow: hidden;padding: 0;position: absolute;width: 1px;}#sk-container-id-1 div.sk-estimator {font-family: monospace;background-color: #f0f8ff;border: 1px dotted black;border-radius: 0.25em;box-sizing: border-box;margin-bottom: 0.5em;}#sk-container-id-1 div.sk-estimator:hover {background-color: #d4ebff;}#sk-container-id-1 div.sk-parallel-item::after {content: \"\";width: 100%;border-bottom: 1px solid gray;flex-grow: 1;}#sk-container-id-1 div.sk-label:hover label.sk-toggleable__label {background-color: #d4ebff;}#sk-container-id-1 div.sk-serial::before {content: \"\";position: absolute;border-left: 1px solid gray;box-sizing: border-box;top: 0;bottom: 0;left: 50%;z-index: 0;}#sk-container-id-1 div.sk-serial {display: flex;flex-direction: column;align-items: center;background-color: white;padding-right: 0.2em;padding-left: 0.2em;position: relative;}#sk-container-id-1 div.sk-item {position: relative;z-index: 1;}#sk-container-id-1 div.sk-parallel {display: flex;align-items: stretch;justify-content: center;background-color: white;position: relative;}#sk-container-id-1 div.sk-item::before, #sk-container-id-1 div.sk-parallel-item::before {content: \"\";position: absolute;border-left: 1px solid gray;box-sizing: border-box;top: 0;bottom: 0;left: 50%;z-index: -1;}#sk-container-id-1 div.sk-parallel-item {display: flex;flex-direction: column;z-index: 1;position: relative;background-color: white;}#sk-container-id-1 div.sk-parallel-item:first-child::after {align-self: flex-end;width: 50%;}#sk-container-id-1 div.sk-parallel-item:last-child::after {align-self: flex-start;width: 50%;}#sk-container-id-1 div.sk-parallel-item:only-child::after {width: 0;}#sk-container-id-1 div.sk-dashed-wrapped {border: 1px dashed gray;margin: 0 0.4em 0.5em 0.4em;box-sizing: border-box;padding-bottom: 0.4em;background-color: white;}#sk-container-id-1 div.sk-label label {font-family: monospace;font-weight: bold;display: inline-block;line-height: 1.2em;}#sk-container-id-1 div.sk-label-container {text-align: center;}#sk-container-id-1 div.sk-container {/* jupyter's `normalize.less` sets `[hidden] { display: none; }` but bootstrap.min.css set `[hidden] { display: none !important; }` so we also need the `!important` here to be able to override the default hidden behavior on the sphinx rendered scikit-learn.org. See: https://github.com/scikit-learn/scikit-learn/issues/21755 */display: inline-block !important;position: relative;}#sk-container-id-1 div.sk-text-repr-fallback {display: none;}</style><div id=\"sk-container-id-1\" class=\"sk-top-container\"><div class=\"sk-text-repr-fallback\"><pre>DecisionTreeClassifier()</pre><b>In a Jupyter environment, please rerun this cell to show the HTML representation or trust the notebook. <br />On GitHub, the HTML representation is unable to render, please try loading this page with nbviewer.org.</b></div><div class=\"sk-container\" hidden><div class=\"sk-item\"><div class=\"sk-estimator sk-toggleable\"><input class=\"sk-toggleable__control sk-hidden--visually\" id=\"sk-estimator-id-1\" type=\"checkbox\" checked><label for=\"sk-estimator-id-1\" class=\"sk-toggleable__label sk-toggleable__label-arrow\">DecisionTreeClassifier</label><div class=\"sk-toggleable__content\"><pre>DecisionTreeClassifier()</pre></div></div></div></div></div>"
            ],
            "text/plain": [
              "DecisionTreeClassifier()"
            ]
          },
          "execution_count": 15,
          "metadata": {},
          "output_type": "execute_result"
        }
      ],
      "source": [
        "model.fit(x_train.fillna(0), y_train)"
      ]
    },
    {
      "cell_type": "code",
      "execution_count": null,
      "id": "bb0b0b40",
      "metadata": {
        "id": "bb0b0b40"
      },
      "outputs": [],
      "source": [
        "def get_clf_eval(y_test, y_pred=None):\n",
        "    confusion = confusion_matrix(y_test, y_pred, labels=[True, False])\n",
        "    accuracy = accuracy_score(y_test, y_pred)\n",
        "    precision = precision_score(y_test, y_pred, labels=[True, False])\n",
        "    recall = recall_score(y_test, y_pred)\n",
        "    F1 = f1_score(y_test, y_pred, labels=[True, False])\n",
        "\n",
        "    print(\"오차행렬:\\n\", confusion)\n",
        "    print(\"\\n정확도: {:.4f}\".format(accuracy))\n",
        "    print(\"정밀도: {:.4f}\".format(precision))\n",
        "    print(\"재현율: {:.4f}\".format(recall))\n",
        "    print(\"F1: {:.4f}\".format(F1))"
      ]
    },
    {
      "cell_type": "code",
      "execution_count": null,
      "id": "b2c5b2e9",
      "metadata": {
        "id": "b2c5b2e9",
        "outputId": "5579af0e-7c53-4c48-af10-426d542b76bc"
      },
      "outputs": [
        {
          "name": "stdout",
          "output_type": "stream",
          "text": [
            "오차행렬:\n",
            " [[  732   215]\n",
            " [  250 10663]]\n",
            "\n",
            "정확도: 0.9608\n",
            "정밀도: 0.7454\n",
            "재현율: 0.7730\n",
            "F1: 0.7589\n"
          ]
        }
      ],
      "source": [
        "pred = model.predict(x_val.fillna(0))\n",
        "get_clf_eval(y_val, pred)"
      ]
    },
    {
      "cell_type": "markdown",
      "id": "7adf8300",
      "metadata": {
        "id": "7adf8300"
      },
      "source": [
        "## 4. 제출하기"
      ]
    },
    {
      "cell_type": "markdown",
      "id": "9d0b6e17",
      "metadata": {
        "id": "9d0b6e17"
      },
      "source": [
        "### 테스트 데이터 예측"
      ]
    },
    {
      "cell_type": "code",
      "execution_count": null,
      "id": "43daa73c",
      "metadata": {
        "id": "43daa73c"
      },
      "outputs": [],
      "source": [
        "# 예측에 필요한 데이터 분리\n",
        "x_test = df_test.drop([\"is_converted\", \"id\"], axis=1)"
      ]
    },
    {
      "cell_type": "code",
      "execution_count": null,
      "id": "d13f7a6e",
      "metadata": {
        "id": "d13f7a6e",
        "outputId": "5b513a32-abc1-401f-fb2a-caabe19f1f76"
      },
      "outputs": [
        {
          "data": {
            "text/plain": [
              "1266"
            ]
          },
          "execution_count": 19,
          "metadata": {},
          "output_type": "execute_result"
        }
      ],
      "source": [
        "test_pred = model.predict(x_test.fillna(0))\n",
        "sum(test_pred) # True로 예측된 개수"
      ]
    },
    {
      "cell_type": "markdown",
      "id": "47f18e6a",
      "metadata": {
        "id": "47f18e6a"
      },
      "source": [
        "### 제출 파일 작성"
      ]
    },
    {
      "cell_type": "code",
      "execution_count": null,
      "id": "3128a458",
      "metadata": {
        "id": "3128a458"
      },
      "outputs": [],
      "source": [
        "# 제출 데이터 읽어오기 (df_test는 전처리된 데이터가 저장됨)\n",
        "df_sub = pd.read_csv(\"submission.csv\")\n",
        "df_sub[\"is_converted\"] = test_pred\n",
        "\n",
        "# 제출 파일 저장\n",
        "df_sub.to_csv(\"submission.csv\", index=False)"
      ]
    },
    {
      "cell_type": "markdown",
      "id": "ec7867ce",
      "metadata": {
        "id": "ec7867ce"
      },
      "source": [
        "**우측 상단의 제출 버튼을 클릭해 결과를 확인하세요**"
      ]
    }
  ],
  "metadata": {
    "colab": {
      "provenance": []
    },
    "kernelspec": {
      "display_name": "Python 3 (ipykernel)",
      "language": "python",
      "name": "python3"
    },
    "language_info": {
      "codemirror_mode": {
        "name": "ipython",
        "version": 3
      },
      "file_extension": ".py",
      "mimetype": "text/x-python",
      "name": "python",
      "nbconvert_exporter": "python",
      "pygments_lexer": "ipython3",
      "version": "3.10.13"
    }
  },
  "nbformat": 4,
  "nbformat_minor": 5
}